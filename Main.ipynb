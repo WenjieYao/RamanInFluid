{
 "cells": [
  {
   "cell_type": "code",
   "execution_count": 1,
   "metadata": {},
   "outputs": [
    {
     "data": {
      "text/plain": [
       "g0_p_optimize (generic function with 3 methods)"
      ]
     },
     "execution_count": 1,
     "metadata": {},
     "output_type": "execute_result"
    }
   ],
   "source": [
    "using Gridap, Gridap.Geometry, Gridap.Fields\n",
    "using Gmsh, GridapGmsh\n",
    "using GLMakie, DelimitedFiles, Interpolations\n",
    "using LinearAlgebra, SparseArrays, KrylovKit\n",
    "using ChainRulesCore, Zygote\n",
    "using PartitionedArrays\n",
    "using NLopt\n",
    "using GridapMakie\n",
    "\n",
    "import Gridap.CellData: Interpolable\n",
    "import ChainRulesCore: rrule\n",
    "import Gmsh: gmsh\n",
    "\n",
    "\n",
    "main_path = \"/Users/jayyao/Documents/Research/RamanInFluid/\"\n",
    "include(main_path*\"Materials/Materials.jl\")\n",
    "include(main_path*\"Module/Mesh_Periodic.jl\")\n",
    "include(main_path*\"Module/Helper.jl\")\n",
    "include(main_path*\"Module/GridapFE.jl\")\n",
    "include(main_path*\"Module/Control.jl\")\n",
    "include(main_path*\"Module/Model.jl\")\n",
    "include(main_path*\"Module/Objective.jl\")"
   ]
  },
  {
   "cell_type": "code",
   "execution_count": 30,
   "metadata": {},
   "outputs": [
    {
     "name": "stdout",
     "output_type": "stream",
     "text": [
      "Info    : No current model available: creating one\n",
      "Info    : Clearing all models and views...\n",
      "Info    : Done clearing all models and views\n",
      "Info    : Reconstructing periodicity for curve connection 2 - 4\n",
      "Info    : Reconstructing periodicity for curve connection 5 - 7\n",
      "Info    : Reconstructing periodicity for curve connection 8 - 10\n",
      "Info    : Reconstructing periodicity for curve connection 11 - 13\n",
      "Info    : Reconstructing periodicity for curve connection 14 - 16\n",
      "Info    : Reconstructing periodicity for curve connection 17 - 19\n",
      "Info    : Reconstructing periodicity for curve connection 22 - 20\n",
      "Info    : Meshing 1D...\n",
      "Info    : Meshing curve 1 (Line)\n",
      "Info    : Meshing curve 3 (Line)\n",
      "Info    : Meshing curve 4 (Line)\n",
      "Info    : Meshing curve 6 (Line)\n",
      "Info    : Meshing curve 7 (Line)\n",
      "Info    : Meshing curve 9 (Line)\n",
      "Info    : Meshing curve 10 (Line)\n",
      "Info    : Meshing curve 12 (Line)\n",
      "Info    : Meshing curve 13 (Line)\n",
      "Info    : Meshing curve 15 (Line)\n",
      "Info    : Meshing curve 16 (Line)\n",
      "Info    : Meshing curve 18 (Line)\n",
      "Info    : Meshing curve 19 (Line)\n",
      "Info    : Meshing curve 20 (Line)\n",
      "Info    : Meshing curve 21 (Line)\n",
      "Info    : Meshing curve 22 (Line) as a copy of 20\n",
      "Info    : Meshing curve 2 (Line) as a copy of 4\n",
      "Info    : Meshing curve 5 (Line) as a copy of 7\n",
      "Info    : Meshing curve 8 (Line) as a copy of 10\n",
      "Info    : Meshing curve 11 (Line) as a copy of 13\n",
      "Info    : Meshing curve 14 (Line) as a copy of 16\n",
      "Info    : Meshing curve 17 (Line) as a copy of 19\n",
      "Info    : Done meshing 1D (0.005679 s)\n",
      "Info    : Meshing 2D...\n",
      "Info    : Meshing surface 1 (Plane, Frontal)\n",
      "Info    : Meshing surface 2 (Plane, Frontal)\n",
      "Info    : Meshing surface 3 (Plane, Frontal)\n",
      "Info    : Meshing surface 4 (Plane, Frontal)\n",
      "Info    : Meshing surface 5 (Plane, Frontal)\n",
      "Info    : Meshing surface 6 (Plane, Frontal)\n",
      "Info    : Meshing surface 7 (Plane, Frontal)\n",
      "Info    : Done meshing 2D (1.25518 s)\n",
      "Info    : 28476 vertices 57206 elements\n",
      "Info    : Writing 'geometry.msh'...\n",
      "Info    : Done writing 'geometry.msh'\n"
     ]
    },
    {
     "name": "stderr",
     "output_type": "stream",
     "text": [
      "Warning : Gmsh must be compiled with ANN support for finding closest vertices\n",
      "Warning : Gmsh must be compiled with ANN support for finding closest vertices\n",
      "Warning : Gmsh must be compiled with ANN support for finding closest vertices\n",
      "Warning : Gmsh must be compiled with ANN support for finding closest vertices\n",
      "Warning : Gmsh must be compiled with ANN support for finding closest vertices\n",
      "Warning : Gmsh must be compiled with ANN support for finding closest vertices\n",
      "Warning : Gmsh must be compiled with ANN support for finding closest vertices\n",
      "Warning : Gmsh must be compiled with ANN support for finding closest vertices\n",
      "Warning : Gmsh must be compiled with ANN support for finding closest vertices\n",
      "Warning : Gmsh must be compiled with ANN support for finding closest vertices\n",
      "Warning : Gmsh must be compiled with ANN support for finding closest vertices\n",
      "Warning : Gmsh must be compiled with ANN support for finding closest vertices\n",
      "Warning : Gmsh must be compiled with ANN support for finding closest vertices\n",
      "Warning : Gmsh must be compiled with ANN support for finding closest vertices\n",
      "Warning : Gmsh must be compiled with ANN support for finding closest vertices\n",
      "Warning : Gmsh must be compiled with ANN support for finding closest vertices\n",
      "Warning : Gmsh must be compiled with ANN support for finding closest vertices\n",
      "Warning : Gmsh must be compiled with ANN support for finding closest vertices\n",
      "Warning : Gmsh must be compiled with ANN support for finding closest vertices\n",
      "Warning : Gmsh must be compiled with ANN support for finding closest vertices\n",
      "Warning : Gmsh must be compiled with ANN support for finding closest vertices\n"
     ]
    }
   ],
   "source": [
    "hr = 1000          # Height of Raman molecule\n",
    "# Geometry parameters of the mesh\n",
    "L = 150           # Length of the normal region\n",
    "hair = 500 + hr       # Height of the air region\n",
    "hs = 300 + hr         # Height of the source location in air\n",
    "ht = 200 + hr         # Height of the target location in air\n",
    "hd = 200          # Height of design domain\n",
    "hsub = 100        # Height of substrate domain below design domain\n",
    "dpml = 100        # Thickness of the PML\n",
    "hrd = [hd, hr]\n",
    "# Characteristic length (controls the resolution, smaller the finer)\n",
    "resol = 30        # Number of points per wavelength\n",
    "l1 = L/resol      # Air\n",
    "l2 = l1/2.0       # Design domain\n",
    "l3 = l1           # PML\n",
    "\n",
    "meshfile = \"geometry.msh\"\n",
    "geo_param = PeriodicGeometry(L, hair, hs, ht, hd, hsub, dpml, l1, l2, l3)\n",
    "MeshGenerator(geo_param, meshfile)\n",
    "# run(`scp wyao@txe1-login.mit.edu:/home/gridsan/wyao/Research/RamanInFluid/cloud/task1/geometry.msh /Users/jayyao/Documents/Research/RamanInFluid/`)"
   ]
  },
  {
   "cell_type": "code",
   "execution_count": 31,
   "metadata": {},
   "outputs": [
    {
     "name": "stdout",
     "output_type": "stream",
     "text": [
      "Info    : Reading 'geometry.msh'...\n",
      "Info    : 45 entities\n",
      "Info    : 28476 nodes\n",
      "Info    : 56056 elements\n",
      "Info    : Done reading 'geometry.msh'\n"
     ]
    },
    {
     "data": {
      "text/plain": [
       "GridapParameters(UnconstrainedFESpace(), UnconstrainedFESpace(), UnconstrainedFESpace(), UnconstrainedFESpace(), UnconstrainedFESpace(), UnconstrainedFESpace(), 11110, UnstructuredGrid(), Measure(), Measure(), Measure(), Measure(), Measure(), GenericCellField(), Int8[8, 8, 8, 8, 8, 8, 8, 8, 8, 8  …  10, 10, 10, 10, 10, 10, 10, 10, 10, 10], 7)"
      ]
     },
     "execution_count": 31,
     "metadata": {},
     "output_type": "execute_result"
    }
   ],
   "source": [
    "############  Optimization parameters #############\n",
    "flag_f = true       # Turn on filter\n",
    "flag_t = true       # Turn on threshold\n",
    "\n",
    "# Filter and threshold paramters\n",
    "r = [0.02 * L, 0.02 * L]  # Filter radius\n",
    "β = 80.0                  # β∈[1,∞], threshold sharpness\n",
    "η = 0.5                   # η∈[0,1], threshold center\n",
    "\n",
    "α = 0.0 / (2 * 1000.0)    # Equivalent loss α = 1/2Q\n",
    "\n",
    "# Number of subspace\n",
    "K = 20\n",
    "\n",
    "# Amplify g for NLopt\n",
    "Amp = 1\n",
    "\n",
    "# Sum over kx\n",
    "nkx = 30\n",
    "nparts = nkx / 2\n",
    "\n",
    "Bp = true          # Matrix B depend on parameters?\n",
    "pv = 1\n",
    "\n",
    "# Foundary constraint parameters\n",
    "c = 0#resol^4\n",
    "lw = r[1]\n",
    "ls = r[1]\n",
    "ηe = fηe(lw / r[1])\n",
    "ηd = fηd(lw / r[1])\n",
    "\n",
    "control = ControllingParameters(flag_f, flag_t, r, β, η, α, nparts, nkx, K, Amp, Bp, pv, c, ηe, ηd, hrd)\n",
    "\n",
    "gridap = GridapFE(meshfile, 1, 2, [\"DirichletEdges\", \"DirichletNodes\"], [\"DesignNodes\", \"DesignEdges\"], [\"Target\"], [\"Source\"], flag_f)\n"
   ]
  },
  {
   "cell_type": "code",
   "execution_count": 32,
   "metadata": {},
   "outputs": [
    {
     "data": {
      "text/plain": [
       "PhysicalParameters(0.011444781980290685, 1.3304134695650072, 0.12536326530612246 + 3.330816326530612im, 0.12536326530612246 + 3.330816326530612im, 1.0, 1.0e-10, 100.0, [Inf, 1700.0], [Inf, 100.0], 200.0)"
      ]
     },
     "execution_count": 32,
     "metadata": {},
     "output_type": "execute_result"
    }
   ],
   "source": [
    "\n",
    "material = \"Silver\"\n",
    "n_λ, k_λ = RefractiveIndex(material,main_path)\n",
    "λ1 = 532\n",
    "λ2 = 549\n",
    "nm1 = n_λ(λ1) + 1im * k_λ(λ1)\n",
    "nm2 = n_λ(λ2) + 1im * k_λ(λ2)\n",
    "nf = sqrt(1.77)\n",
    "μ = 1\n",
    "R = 1e-10\n",
    "LHp=[Inf, hair + hd]  # Start of PML for x,y > 0\n",
    "LHn=[Inf, hsub]       # Start of PML for x,y < 0\n",
    "\n",
    "\n",
    "ω1 = 2 * π / λ1\n",
    "phys1 = PhysicalParameters(ω1, nf, nm1, nm1, μ, R, dpml, LHp, LHn, hd)\n",
    "ω2 = 2 * π / λ2\n",
    "phys2 = PhysicalParameters(ω2, nf, nm2, nm2, μ, R, dpml, LHp, LHn, hd)\n",
    "\n",
    "\n",
    "# kb = 0. * ω1\n",
    "# p0 = zeros(gridap.np)\n",
    "# p_vec = p_extend(p0; gridap)\n",
    "# pf_vec = Filter(p_vec; control, gridap)\n",
    "# pf_vec[pf_vec .< 0] .= 0\n",
    "# pf_vec[pf_vec .> 1] .= 1.0\n",
    "# pfh = FEFunction(gridap.FE_Pf, pf_vec)\n",
    "# pth = (pf -> Threshold(pf; control)) ∘ pfh\n",
    "\n",
    "# A1_mat = MatrixA(pth, kb; phys=phys1, control, gridap)\n",
    "\n",
    "# btest(v) = ∫(v)gridap.dΓ_s\n",
    "# b_vec = assemble_vector(btest, gridap.FE_V)\n",
    "\n",
    "# u1_vec = A1_mat\\b_vec\n",
    "# u1h = FEFunction(gridap.FE_U, u1_vec)\n",
    "# A2_mat = MatrixA(pth, kb; phys=phys2, control, gridap)\n",
    "# o_vec = VectorO(1, 1; gridap)\n",
    "# v2_vec = A2_mat' \\ o_vec\n",
    "# v2h = FEFunction(gridap.FE_U, v2_vec)\n",
    "\n",
    "# fig, ax, plt = plot(gridap.Ω, real(u1h), colormap=:bwr)\n",
    "# Colorbar(fig[1,2], plt)\n",
    "# ax.aspect = AxisAspect(L/(phys1.LHn[2]+phys1.LHp[2]))\n",
    "# limits!(ax, -L/2, L/2, -phys1.LHn[2], phys1.LHp[2])\n",
    "# fig"
   ]
  },
  {
   "cell_type": "code",
   "execution_count": null,
   "metadata": {},
   "outputs": [],
   "source": [
    "p_init_fun(x) = x[2] < 0.6 * hd ? 1 : 0\n",
    "lc_temp(v) = ∫(v * x->p_init_fun(x))gridap.dΩ\n",
    "pc_vec = assemble_vector(lc_temp, gridap.FE_P)\n",
    "p_init = p_extract(pc_vec; gridap)\n",
    "#p_init[p_init .< 0.5] .= 0\n",
    "p_init[p_init .> 0] .= 1\n",
    "sum(p_init) / gridap.np"
   ]
  },
  {
   "cell_type": "code",
   "execution_count": 33,
   "metadata": {},
   "outputs": [
    {
     "name": "stdout",
     "output_type": "stream",
     "text": [
      "numevals = opt.numevals = 200\n",
      "numevals = opt.numevals = 200\n",
      "numevals = opt.numevals = 200\n",
      "numevals = opt.numevals = 200\n",
      "numevals = opt.numevals = 200\n",
      "numevals = opt.numevals = 200\n",
      "numevals = opt.numevals = 200\n",
      "g_opt = 4.720188196688621e7\n"
     ]
    },
    {
     "data": {
      "text/plain": [
       "4.720188196688621e7"
      ]
     },
     "execution_count": 33,
     "metadata": {},
     "output_type": "execute_result"
    }
   ],
   "source": [
    "p_init = ones(gridap.np) * 0.5 + rand(gridap.np) * 1e-2\n",
    "β_list = [5.0, 10.0, 20.0, 30.0, 40.0, 60.0, 80.0]\n",
    "# β_list = [80.0, 80.0, 80.0, 80.0, 80.0]\n",
    "\n",
    "g_opt = 0\n",
    "for bi = 1 : 7\n",
    "    β = β_list[bi]\n",
    "    control = ControllingParameters(flag_f, flag_t, r, β, η, α, nparts, nkx, K, Amp, Bp, pv, c, ηe, ηd, hrd)\n",
    "\n",
    "    if bi == 1\n",
    "        g_opt, p_opt = g0_p_optimize(p_init, 1e-12, 200; phys1, phys2, control, gridap)\n",
    "    \n",
    "    else\n",
    "        g_opt, p_opt = g0_p_optimize([], 1e-12, 200; phys1, phys2, control, gridap)\n",
    "    end\n",
    "    if isfile(\"p_opt.value.txt\")\n",
    "        run(`rm p_opt_value.txt`)\n",
    "    end\n",
    "    open(\"p_opt_value.txt\", \"w\") do iop\n",
    "        for i = 1 : length(p_opt)\n",
    "            p_temp = p_opt[i]\n",
    "            write(iop, \"$p_temp \\n\")\n",
    "        end\n",
    "    end\n",
    "    open(\"g_opt_value.txt\", \"a\") do io\n",
    "        write(io, \"$g_opt \\n\")\n",
    "    end\n",
    "end\n",
    "@show g_opt"
   ]
  },
  {
   "cell_type": "code",
   "execution_count": 34,
   "metadata": {},
   "outputs": [
    {
     "data": {
      "image/png": "[encoded data removed]",
      "text/plain": [
       "Figure()"
      ]
     },
     "execution_count": 34,
     "metadata": {},
     "output_type": "execute_result"
    }
   ],
   "source": [
    "# Output and view\n",
    "ImportFromFile = true\n",
    "N = num_free_dofs(gridap.FE_U)\n",
    "if ImportFromFile\n",
    "    #p_max = readdlm(\"cloud/task5/p_opt_value.txt\", Float64)\n",
    "    p_max = readdlm(\"p_opt_value.txt\", Float64)\n",
    "    p0 = p_max[:]\n",
    "else\n",
    "    p0 = zeros(gridap.np)\n",
    "end\n",
    "\n",
    "kb = 0\n",
    "pf_vec = pf_p0(p0; control, gridap)\n",
    "pfh = FEFunction(gridap.FE_Pf, pf_vec)\n",
    "pth = (pf -> Threshold(pf; control)) ∘ pfh\n",
    "A1_mat = MatrixA(pth, kb; phys=phys1, control, gridap)\n",
    "b1_vec = assemble_vector(v->(∫(v)gridap.dΓ_s), gridap.FE_V)\n",
    "u1_vec = A1_mat \\ b1_vec\n",
    "u1h = FEFunction(gridap.FE_U, u1_vec)\n",
    "\n",
    "A2_mat = MatrixA(pth, kb; phys=phys2, control, gridap)\n",
    "o_vec = VectorO(1, 1; gridap)\n",
    "v2_vec = A2_mat' \\ o_vec\n",
    "v2h = FEFunction(gridap.FE_U, v2_vec)\n",
    "\n",
    "fig, ax, plt = plot(gridap.Ω, pth, colormap = :binary)\n",
    "Colorbar(fig[1,2], plt)\n",
    "ax.aspect = AxisAspect(L/(hd))\n",
    "ax.title = \"Design Shape\"\n",
    "limits!(ax, -L/2, L/2, 0, hd)\n",
    "save(\"Results/shape.png\", fig)\n",
    "fig"
   ]
  },
  {
   "cell_type": "code",
   "execution_count": 35,
   "metadata": {},
   "outputs": [
    {
     "data": {
      "image/png": "[encoded data removed]",
      "text/plain": [
       "Figure()"
      ]
     },
     "execution_count": 35,
     "metadata": {},
     "output_type": "execute_result"
    }
   ],
   "source": [
    "maxv = maximum(abs.(u1_vec))\n",
    "fig, ax, plt = plot(gridap.Ω, real(u1h), colormap = :bwr, colorrange=(-maxv, maxv))\n",
    "Colorbar(fig[1,2], plt)\n",
    "ax.aspect = AxisAspect(L/(phys1.LHp[2]+phys1.LHn[2]))\n",
    "ax.title = \"Design Shape\"\n",
    "limits!(ax, -L/2, L/2, -phys1.LHn[2], phys1.LHp[2])\n",
    "fig"
   ]
  },
  {
   "cell_type": "code",
   "execution_count": 36,
   "metadata": {},
   "outputs": [
    {
     "data": {
      "image/png": "[encoded data removed]",
      "text/plain": [
       "FigureAxisPlot()"
      ]
     },
     "execution_count": 36,
     "metadata": {},
     "output_type": "execute_result"
    }
   ],
   "source": [
    "gvalues = readdlm(\"gvalue.txt\", Float64)\n",
    "gavlues = gvalues[:]\n",
    "GLMakie.lines(range(1, length=length(gvalues)), gvalues[:])"
   ]
  },
  {
   "cell_type": "code",
   "execution_count": 5,
   "metadata": {},
   "outputs": [
    {
     "data": {
      "text/plain": [
       "(0.011704159725923091, 0.011704156466382662)"
      ]
     },
     "execution_count": 5,
     "metadata": {},
     "output_type": "execute_result"
    }
   ],
   "source": [
    "p0 = rand(gridap.np)\n",
    "δp = rand(gridap.np)*1e-8\n",
    "grad = zeros(gridap.np)\n",
    "\n",
    "kb = 0.0 * ω1\n",
    "g0 = g0_p(p0, grad; kb, phys1, phys2, control, gridap)\n",
    "g1 = g0_p(p0+δp, []; kb, phys1, phys2, control, gridap)\n",
    "g1-g0, grad'*δp\n",
    "#1.609129978462141e8"
   ]
  },
  {
   "cell_type": "code",
   "execution_count": null,
   "metadata": {},
   "outputs": [],
   "source": [
    "p_init_fun(x) = x[2] < 0.0 * hd ? 1 : 0\n",
    "lc_temp(v) = ∫(v * x->p_init_fun(x))gridap.dΩ\n",
    "pc_vec = assemble_vector(lc_temp, gridap.FE_P)\n",
    "p_init = p_extract(pc_vec; gridap)\n",
    "g0_p(p_init, []; kb=0, phys1, phys2, control, gridap)"
   ]
  },
  {
   "cell_type": "code",
   "execution_count": null,
   "metadata": {},
   "outputs": [],
   "source": [
    "2.289189653666371e6-284077.8666008187"
   ]
  },
  {
   "cell_type": "code",
   "execution_count": null,
   "metadata": {},
   "outputs": [],
   "source": [
    "function p_bowtie(x, d, h, L, hd)\n",
    "    dx = abs(x[1]) - d / 2 \n",
    "    dy = abs(x[2] - hd / 2)\n",
    "    bowtie = 0\n",
    "    if dx >= 0 && dy <= h / (L - d) * dx\n",
    "        bowtie = 1\n",
    "    end\n",
    "    return bowtie\n",
    "end\n",
    "\n",
    "kb = 0\n",
    "d = 80\n",
    "h = 20\n",
    "bowtie_temp(v) = ∫(v * x->p_bowtie(x, d, h, L, hd))gridap.dΩ\n",
    "pc_vec = assemble_vector(bowtie_temp, gridap.FE_P)\n",
    "p0 = p_extract(pc_vec; gridap)\n",
    "@show g0_p(p0, []; kb, phys1, phys2, control, gridap)\n",
    "\n",
    "pf_vec = pf_p0(p0; control, gridap)\n",
    "pfh = FEFunction(gridap.FE_Pf, pf_vec)\n",
    "pth = (pf -> Threshold(pf; control)) ∘ pfh\n",
    "A1_mat = MatrixA(pth, kb; phys=phys1, control, gridap)\n",
    "b1_vec = assemble_vector(v->(∫(v)gridap.dΓ_s), gridap.FE_V)\n",
    "u1_vec = A1_mat \\ b1_vec\n",
    "u1h = FEFunction(gridap.FE_U, u1_vec)\n",
    "\n",
    "A2_mat = MatrixA(pth, kb; phys=phys2, control, gridap)\n",
    "o_vec = VectorO(1, 1; gridap)\n",
    "v2_vec = A2_mat' \\ o_vec\n",
    "v2h = FEFunction(gridap.FE_U, v2_vec)\n",
    "\n",
    "\n",
    "fig, ax, plt = plot(gridap.Ω, pth, colormap = :binary)\n",
    "Colorbar(fig[1,2], plt)\n",
    "ax.aspect = AxisAspect(L/(hd))\n",
    "ax.title = \"Design Shape\"\n",
    "limits!(ax, -L/2, L/2, 0, hd)\n",
    "#save(\"Results/shape.png\", fig)\n",
    "fig"
   ]
  },
  {
   "cell_type": "code",
   "execution_count": null,
   "metadata": {},
   "outputs": [],
   "source": [
    "gmax = 0\n",
    "dmax = 0\n",
    "hmax = 0\n",
    "for d = 10:10:150\n",
    "    for h = 10:10:200\n",
    "        bowtie_temp(v) = ∫(v * x->p_bowtie(x, d, h, L, hd))gridap.dΩ\n",
    "        pc_vec = assemble_vector(bowtie_temp, gridap.FE_P)\n",
    "        p0 = p_extract(pc_vec; gridap)\n",
    "        @show gtemp = g0_p(p0, []; kb=0, phys1, phys2, control, gridap)\n",
    "        if gtemp > gmax\n",
    "            gmax = gtemp\n",
    "            dmax = d\n",
    "            hmax = h\n",
    "        end\n",
    "    end\n",
    "end\n",
    "gmax, dmax, hmax"
   ]
  },
  {
   "cell_type": "code",
   "execution_count": null,
   "metadata": {},
   "outputs": [],
   "source": [
    "function g_hr(hr)\n",
    "# Geometry parameters of the mesh\n",
    "L = 150           # Length of the normal region\n",
    "hair = 500 + hr       # Height of the air region\n",
    "hs = 300 + hr         # Height of the source location in air\n",
    "ht = 200 + hr         # Height of the target location in air\n",
    "hd = 200          # Height of design domain\n",
    "hsub = 100        # Height of substrate domain below design domain\n",
    "dpml = 100        # Thickness of the PML\n",
    "hrd = [hd, hr]\n",
    "# Characteristic length (controls the resolution, smaller the finer)\n",
    "resol = 30        # Number of points per wavelength\n",
    "l1 = L/resol      # Air\n",
    "l2 = l1/2.0       # Design domain\n",
    "l3 = l1           # PML\n",
    "\n",
    "meshfile = \"geometry.msh\"\n",
    "geo_param = PeriodicGeometry(L, hair, hs, ht, hd, hsub, dpml, l1, l2, l3)\n",
    "MeshGenerator(geo_param, meshfile)\n",
    "\n",
    "############  Optimization parameters #############\n",
    "flag_f = true       # Turn on filter\n",
    "flag_t = true       # Turn on threshold\n",
    "\n",
    "# Filter and threshold paramters\n",
    "r = [0.02 * L, 0.02 * L]  # Filter radius\n",
    "β = 80.0                  # β∈[1,∞], threshold sharpness\n",
    "η = 0.5                   # η∈[0,1], threshold center\n",
    "\n",
    "α = 0.0 / (2 * 1000.0)    # Equivalent loss α = 1/2Q\n",
    "\n",
    "# Number of subspace\n",
    "K = 20\n",
    "\n",
    "# Amplify g for NLopt\n",
    "Amp = 1\n",
    "\n",
    "# Sum over kx\n",
    "nkx = 30\n",
    "nparts = nkx / 2\n",
    "\n",
    "Bp = true          # Matrix B depend on parameters?\n",
    "pv = 1\n",
    "\n",
    "# Foundary constraint parameters\n",
    "c = 0#resol^4\n",
    "lw = r[1]\n",
    "ls = r[1]\n",
    "ηe = fηe(lw / r[1])\n",
    "ηd = fηd(lw / r[1])\n",
    "\n",
    "control = ControllingParameters(flag_f, flag_t, r, β, η, α, nparts, nkx, K, Amp, Bp, pv, c, ηe, ηd, hrd)\n",
    "\n",
    "gridap = GridapFE(meshfile, 1, 2, [\"DirichletEdges\", \"DirichletNodes\"], [\"DesignNodes\", \"DesignEdges\"], [\"Target\"], [\"Source\"], flag_f)\n",
    "\n",
    "material = \"Silver\"\n",
    "n_λ, k_λ = RefractiveIndex(material,main_path)\n",
    "λ1 = 532\n",
    "λ2 = 549\n",
    "nm1 = n_λ(λ1) + 1im * k_λ(λ1)\n",
    "nm2 = n_λ(λ2) + 1im * k_λ(λ2)\n",
    "nf = sqrt(1.77)\n",
    "μ = 1\n",
    "R = 1e-10\n",
    "LHp=[Inf, hair + hd]  # Start of PML for x,y > 0\n",
    "LHn=[Inf, hsub]       # Start of PML for x,y < 0\n",
    "\n",
    "\n",
    "ω1 = 2 * π / λ1\n",
    "phys1 = PhysicalParameters(ω1, nf, nm1, nm1, μ, R, dpml, LHp, LHn, hd)\n",
    "ω2 = 2 * π / λ2\n",
    "phys2 = PhysicalParameters(ω2, nf, nm2, nm2, μ, R, dpml, LHp, LHn, hd)\n",
    "\n",
    "p_init = zeros(gridap.np)\n",
    "return g0_p(p_init, []; kb=0, phys1, phys2, control, gridap)\n",
    "end"
   ]
  },
  {
   "cell_type": "code",
   "execution_count": null,
   "metadata": {},
   "outputs": [],
   "source": [
    "Ng = 100\n",
    "g_list = zeros(Ng)\n",
    "h_list = zeros(Ng)\n",
    "for hi = 1:Ng\n",
    "    hr = (hi - 1) * 25\n",
    "    h_list[hi] = hr\n",
    "    g_list[hi] = g_hr(hr)\n",
    "end"
   ]
  },
  {
   "cell_type": "code",
   "execution_count": null,
   "metadata": {},
   "outputs": [],
   "source": [
    "GLMakie.lines(h_list, g_list)"
   ]
  },
  {
   "cell_type": "code",
   "execution_count": null,
   "metadata": {},
   "outputs": [],
   "source": []
  }
 ],
 "metadata": {
  "kernelspec": {
   "display_name": "Julia 1.6.2",
   "language": "julia",
   "name": "julia-1.6"
  },
  "language_info": {
   "file_extension": ".jl",
   "mimetype": "application/julia",
   "name": "julia",
   "version": "1.6.2"
  }
 },
 "nbformat": 4,
 "nbformat_minor": 4
}
