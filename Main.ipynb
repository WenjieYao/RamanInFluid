{
 "cells": [
  {
   "cell_type": "code",
   "execution_count": 1,
   "metadata": {},
   "outputs": [
    {
     "data": {
      "text/plain": [
       "LWConstraint (generic function with 1 method)"
      ]
     },
     "execution_count": 1,
     "metadata": {},
     "output_type": "execute_result"
    }
   ],
   "source": [
    "using Gridap, Gridap.Geometry, Gridap.Fields\n",
    "using Gmsh, GridapGmsh\n",
    "using GLMakie, DelimitedFiles, Interpolations\n",
    "using LinearAlgebra, SparseArrays, KrylovKit\n",
    "using ChainRulesCore, Zygote\n",
    "using PartitionedArrays\n",
    "using NLopt\n",
    "using GridapMakie\n",
    "\n",
    "import Gridap.CellData: Interpolable\n",
    "import ChainRulesCore: rrule\n",
    "import Gmsh: gmsh\n",
    "\n",
    "\n",
    "include(\"Materials/Materials.jl\")\n",
    "include(\"Module/Mesh_Periodic.jl\")\n",
    "include(\"Module/Helper.jl\")\n",
    "include(\"Module/GridapFE.jl\")\n",
    "include(\"Module/Control.jl\")\n"
   ]
  },
  {
   "cell_type": "code",
   "execution_count": 2,
   "metadata": {},
   "outputs": [
    {
     "data": {
      "text/plain": [
       "PeriodicGeometry(150.0, 500.0, 300.0, 200.0, 200.0, 100.0, 100.0, 7.5, 3.75, 7.5)"
      ]
     },
     "execution_count": 2,
     "metadata": {},
     "output_type": "execute_result"
    }
   ],
   "source": [
    "# Geometry parameters of the mesh\n",
    "L = 150           # Length of the normal region  \n",
    "hair = 500        # Height of the air region\n",
    "hs = 300          # Height of the source location in air\n",
    "ht = 200          # Height of the target location in air\n",
    "hd = 200          # Height of design domain\n",
    "hsub = 100        # Height of substrate domain below design domain\n",
    "dpml = 100        # Thickness of the PML\n",
    "\n",
    "# Characteristic length (controls the resolution, smaller the finer)\n",
    "resol = 20        # Number of points per wavelength\n",
    "l1 = L/resol      # Air\n",
    "l2 = l1/2.0       # Design domain\n",
    "l3 = l1           # PML\n",
    "\n",
    "meshfile = \"geometry.msh\"\n",
    "geo_param = PeriodicGeometry(L, hair, hs, ht, hd, hsub, dpml, l1, l2, l3)\n",
    "# MeshGenerator(geo_param, meshfile)\n"
   ]
  },
  {
   "cell_type": "code",
   "execution_count": 3,
   "metadata": {},
   "outputs": [
    {
     "name": "stdout",
     "output_type": "stream",
     "text": [
      "Info    : Reading 'geometry.msh'...\n",
      "Info    : 45 entities\n",
      "Info    : 6325 nodes\n",
      "Info    : 12418 elements\n",
      "Info    : Done reading 'geometry.msh'\n"
     ]
    },
    {
     "data": {
      "text/plain": [
       "GridapParameters(UnconstrainedFESpace(), UnconstrainedFESpace(), UnconstrainedFESpace(), UnconstrainedFESpace(), UnconstrainedFESpace(), UnconstrainedFESpace(), 5046, UnstructuredGrid(), Measure(), Measure(), Measure(), Measure(), Measure(), GenericCellField(), Int8[8, 8, 8, 8, 8, 8, 8, 8, 8, 8  …  10, 10, 10, 10, 10, 10, 10, 10, 10, 10], 7)"
      ]
     },
     "execution_count": 3,
     "metadata": {},
     "output_type": "execute_result"
    }
   ],
   "source": [
    "############  Optimization parameters #############\n",
    "flag_f = true       # Turn on filter\n",
    "flag_t = true       # Turn on threshold\n",
    "\n",
    "# Filter and threshold paramters\n",
    "r = [0.02 * L, 0.02 * L]  # Filter radius\n",
    "β = 80.0                  # β∈[1,∞], threshold sharpness\n",
    "η = 0.5                   # η∈[0,1], threshold center\n",
    "\n",
    "α = 0.0 / (2 * 1000.0)    # Equivalent loss α = 1/2Q\n",
    "\n",
    "# Number of subspace\n",
    "K = 20\n",
    "\n",
    "# Amplify g for NLopt\n",
    "Amp = 1\n",
    "\n",
    "# Sum over kx\n",
    "nkx = 30\n",
    "nparts = nkx / 2\n",
    "\n",
    "Bp = true          # Matrix B depend on parameters?\n",
    "pv = 0.5\n",
    "\n",
    "# Foundary constraint parameters\n",
    "c = 0#resol^4\n",
    "lw = r[1]\n",
    "ls = r[1]\n",
    "ηe = fηe(lw / r[1])\n",
    "ηd = fηd(lw / r[1])\n",
    "\n",
    "control = ControllingParameters(flag_f, flag_t, r, β, η, α, nparts, nkx, K, Amp, Bp, pv, c, ηe, ηd)\n",
    "\n",
    "gridap = GridapFE(meshfile, 1, 2, [\"DirichletEdges\", \"DirichletNodes\"], [\"DesignNodes\", \"DesignEdges\"], [\"Target\"], [\"Source\"], flag_f)\n",
    "\n",
    "#phys = PhysicalParameters(k, kb, ω, ϵ1, ϵ2, ϵ3, ϵd, μ, R, σs, dpml, LHp, LHn, wg_center, wg_size)\n"
   ]
  },
  {
   "cell_type": "code",
   "execution_count": 4,
   "metadata": {},
   "outputs": [
    {
     "data": {
      "text/plain": [
       "VectorO (generic function with 1 method)"
      ]
     },
     "execution_count": 4,
     "metadata": {},
     "output_type": "execute_result"
    }
   ],
   "source": [
    "include(\"Module/Model.jl\")"
   ]
  },
  {
   "cell_type": "code",
   "execution_count": 5,
   "metadata": {},
   "outputs": [
    {
     "data": {
      "text/plain": [
       "PhysicalParameters(0.011444781980290685, 1.3304134695650072, 0.5 + 0.0im, 0.5 + 0.0im, 1.0, 1.0e-10, 100.0, [Inf, 700.0], [Inf, 100.0], 200.0)"
      ]
     },
     "execution_count": 5,
     "metadata": {},
     "output_type": "execute_result"
    }
   ],
   "source": [
    "\n",
    "material = \"Gold\"\n",
    "n_λ, k_λ = RefractiveIndex(material)\n",
    "λ1 = 532\n",
    "λ2 = 549\n",
    "nm1 = 0.4+2.5im#n_λ(λ1) + 1im * k_λ(λ1)\n",
    "nm2 = 0.5#+2.6im#n_λ(λ2) + 1im * k_λ(λ2)\n",
    "nf = sqrt(1.77)\n",
    "μ = 1\n",
    "R = 1e-10\n",
    "LHp=[Inf, hair + hd]  # Start of PML for x,y > 0\n",
    "LHn=[Inf, hsub]       # Start of PML for x,y < 0\n",
    "\n",
    "\n",
    "ω1 = 2 * π / λ1\n",
    "phys1 = PhysicalParameters(ω1, nf, nm1, nm1, μ, R, dpml, LHp, LHn, hd)\n",
    "ω2 = 2 * π / λ2\n",
    "phys2 = PhysicalParameters(ω2, nf, nm2, nm2, μ, R, dpml, LHp, LHn, hd)\n",
    "\n",
    "\n",
    "# kb = 0. * ω1\n",
    "# p0 = zeros(gridap.np)\n",
    "# p_vec = p_extend(p0; gridap)\n",
    "# pf_vec = Filter(p_vec; control, gridap)\n",
    "# pf_vec[pf_vec .< 0] .= 0\n",
    "# pf_vec[pf_vec .> 1] .= 1.0\n",
    "# pfh = FEFunction(gridap.FE_Pf, pf_vec)\n",
    "# pth = (pf -> Threshold(pf; control)) ∘ pfh\n",
    "\n",
    "# A1_mat = MatrixA(pth, kb; phys=phys1, control, gridap)\n",
    "\n",
    "# btest(v) = ∫(v)gridap.dΓ_s\n",
    "# b_vec = assemble_vector(btest, gridap.FE_V)\n",
    "\n",
    "# u1_vec = A1_mat\\b_vec\n",
    "# u1h = FEFunction(gridap.FE_U, u1_vec)\n",
    "# A2_mat = MatrixA(pth, kb; phys=phys2, control, gridap)\n",
    "# o_vec = VectorO(1, 1; gridap)\n",
    "# v2_vec = A2_mat' \\ o_vec\n",
    "# v2h = FEFunction(gridap.FE_U, v2_vec)\n",
    "\n",
    "# fig, ax, plt = plot(gridap.Ω, real(u1h), colormap=:bwr)\n",
    "# Colorbar(fig[1,2], plt)\n",
    "# ax.aspect = AxisAspect(L/(phys1.LHn[2]+phys1.LHp[2]))\n",
    "# limits!(ax, -L/2, L/2, -phys1.LHn[2], phys1.LHp[2])\n",
    "# fig"
   ]
  },
  {
   "cell_type": "code",
   "execution_count": 6,
   "metadata": {},
   "outputs": [
    {
     "data": {
      "text/plain": [
       "g0_p (generic function with 2 methods)"
      ]
     },
     "execution_count": 6,
     "metadata": {},
     "output_type": "execute_result"
    }
   ],
   "source": [
    "NO_FIELDS = ZeroTangent()\n",
    "function g0_pf(pf_vec; kb, phys1, phys2, control, gridap)\n",
    "    pfh = FEFunction(gridap.FE_Pf, pf_vec)\n",
    "    pth = (pf -> Threshold(pf; control)) ∘ pfh\n",
    "    A1_mat = MatrixA(pth, kb; phys=phys1, control, gridap)\n",
    "    b1_vec = assemble_vector(v->(∫(v)gridap.dΓ_s), gridap.FE_V)\n",
    "    u1_vec = A1_mat\\b1_vec\n",
    "    u1h = FEFunction(gridap.FE_U, u1_vec)\n",
    "    \n",
    "    B_mat = MatrixB(pth, u1h; control, gridap)\n",
    "    # B_mat = MatrixB(pth, u1fix; control, gridap)\n",
    "    A2_mat = MatrixA(pth, kb; phys=phys2, control, gridap)\n",
    "    o_vec = VectorO(1, 1; gridap)\n",
    "    v2_vec = A2_mat'\\o_vec\n",
    "    g_temp = v2_vec' * B_mat * v2_vec\n",
    "    # g_temp = v2fix_vec' * B_mat * v2fix_vec\n",
    "    @assert abs(imag(g_temp) / real(g_temp)) < 1e-6\n",
    "    real(g_temp)\n",
    "end\n",
    "\n",
    "#pf = pf_p0(p0)\n",
    "function pf_p0(p0; control, gridap)\n",
    "    p_vec = p_extend(p0; gridap)\n",
    "    pf_vec = Filter(p_vec; control, gridap)\n",
    "    pf_vec[pf_vec .< 0] .= 0\n",
    "    pf_vec[pf_vec .> 1] .= 1.0\n",
    "    pf_vec\n",
    "end\n",
    "\n",
    "# Chain Rule : \n",
    "# dg/dpf=dg/dg * dg/dpf\n",
    "function rrule(::typeof(g0_pf), pf_vec; kb, phys1, phys2, control, gridap)\n",
    "    function U_pullback(dgdg)\n",
    "      NO_FIELDS, dgdg * Dg0dpf(pf_vec; kb, phys1, phys2, control, gridap)\n",
    "    end\n",
    "    g0_pf(pf_vec; kb, phys1, phys2, control, gridap), U_pullback\n",
    "end\n",
    "\n",
    "Dptdpf(pf; control) = control.flag_t ? control.β * (1.0 - tanh(control.β * (pf - control.η))^2) / (tanh(control.β * control.η) + tanh(control.β * (1.0 - control.η))) : 1.0\n",
    "\n",
    "Dξdpf(pf, nf, nm, α)= 2 * (nf - nm) / (nf + (nm - nf) * Threshold(pf; control))^3 / (1 + control.α * 1im) * Dptdpf(pf; control)\n",
    "\n",
    "DAdpf(u, v, pfh, kb; phys, control) = ((p -> Dξdpf(p, phys.nf, phys.nm, control.α)) ∘ pfh) * ((∇(v) - 1im * kb * v) ⊙ (∇(u) + 1im * kb * u))\n",
    "\n",
    "function Dg0dpf(pf_vec; kb, phys1, phys2, control, gridap)\n",
    "    pfh = FEFunction(gridap.FE_Pf, pf_vec)\n",
    "    pth = (pf -> Threshold(pf; control)) ∘ pfh\n",
    "    A1_mat = MatrixA(pth, kb; phys=phys1, control, gridap)\n",
    "    b1_vec = assemble_vector(v->(∫(v)gridap.dΓ_s), gridap.FE_V)\n",
    "    u1_vec = A1_mat \\ b1_vec\n",
    "    u1h = FEFunction(gridap.FE_U, u1_vec)\n",
    "    \n",
    "    B_mat = MatrixB(pth, u1h; control, gridap)\n",
    "    # B_mat = MatrixB(pth, u1fix; control, gridap)\n",
    "    A2_mat = MatrixA(pth, kb; phys=phys2, control, gridap)\n",
    "    o_vec = VectorO(1, 1; gridap)\n",
    "    v2_vec = A2_mat' \\ o_vec\n",
    "    v2h = FEFunction(gridap.FE_U, v2_vec)\n",
    "    # v2h = FEFunction(gridap.FE_U, v2fix_vec)\n",
    "    \n",
    "    v2conjh = FEFunction(gridap.FE_U, conj(v2_vec))\n",
    "    w2_vec =  A2_mat \\ (B_mat * v2_vec)\n",
    "    w2h = FEFunction(gridap.FE_U, w2_vec) \n",
    "    \n",
    "    B_temp = MatrixB(pth, v2h; control, gridap)\n",
    "    w1_vec = A1_mat' \\ (B_temp * u1_vec)\n",
    "    w1conjh = FEFunction(gridap.FE_U, conj(w1_vec))\n",
    "    l_temp(dp) = ∫(real(-((pf->Dptdpf(pf; control))∘pfh) * abs2(∇(v2h) ⋅ ∇(u1h))\n",
    "                         - 2 * 1 * DAdpf(u1h, w1conjh, pfh, kb; phys=phys1, control)\n",
    "                         - 2 * 1 * DAdpf(w2h, v2conjh, pfh, kb; phys=phys2, control)) * dp)gridap.dΩ_d\n",
    "    dg0dpf = assemble_vector(l_temp, gridap.FE_Pf)\n",
    "    return dg0dpf\n",
    "end\n",
    "\n",
    "# dg/dp=dg/dpf*dpf/dp\n",
    "function rrule(::typeof(pf_p0), p0; control, gridap)\n",
    "  function pf_pullback(dgdpf)\n",
    "    NO_FIELDS, Dgdp(dgdpf; control, gridap)\n",
    "  end\n",
    "  pf_p0(p0; control, gridap), pf_pullback\n",
    "end\n",
    "\n",
    "function Dgdp(dgdpf; control, gridap)\n",
    "    if control.flag_f\n",
    "        Af = assemble_matrix(gridap.FE_Pf, gridap.FE_Qf) do u, v\n",
    "            ∫(a_f(control.r, u, v))gridap.dΩ_d + ∫(v * u)gridap.dΩ\n",
    "        end\n",
    "        λvec = Af' \\ dgdpf\n",
    "        λh = FEFunction(gridap.FE_Pf, λvec)\n",
    "        l_temp(dp) = ∫(λh * dp)gridap.dΩ\n",
    "        return p_extract(assemble_vector(l_temp, gridap.FE_P); gridap)\n",
    "    else\n",
    "        return p_extract(dgdpf; gridap)\n",
    "    end\n",
    "end\n",
    "\n",
    "\n",
    "# Final objective function\n",
    "function g0_p(p0::Vector; kb, phys1, phys2, control, gridap)\n",
    "    pf_vec = pf_p0(p0; control, gridap)\n",
    "    g0_pf(pf_vec; kb, phys1, phys2, control, gridap)\n",
    "end\n",
    "\n",
    "function g0_p(p0::Vector, grad::Vector; kb, phys1, phys2, control, gridap)\n",
    "    if length(grad) > 0\n",
    "        dgdp, = Zygote.gradient(p -> g0_p(p; kb, phys1, phys2, control, gridap), p0)\n",
    "        grad[:] = dgdp\n",
    "    end\n",
    "    g_value = g0_p(p0::Vector; kb, phys1, phys2, control, gridap)\n",
    "    return g_value\n",
    "end"
   ]
  },
  {
   "cell_type": "code",
   "execution_count": 7,
   "metadata": {},
   "outputs": [
    {
     "data": {
      "text/plain": [
       "(-0.011730948943295516, -0.011637613325097466)"
      ]
     },
     "execution_count": 7,
     "metadata": {},
     "output_type": "execute_result"
    }
   ],
   "source": [
    "p0 = rand(gridap.np)\n",
    "δp = rand(gridap.np)*1e-8\n",
    "grad = zeros(gridap.np)\n",
    "\n",
    "kb = 0.6 * ω1\n",
    "g0 = g0_p(p0, grad; kb, phys1, phys2, control, gridap)\n",
    "g1 = g0_p(p0+δp, []; kb, phys1, phys2, control, gridap)\n",
    "g1-g0, grad'*δp"
   ]
  },
  {
   "cell_type": "code",
   "execution_count": 52,
   "metadata": {},
   "outputs": [
    {
     "data": {
      "text/plain": [
       "SingleFieldFEFunction():\n",
       " num_cells: 12250\n",
       " DomainStyle: ReferenceDomain()\n",
       " Triangulation: UnstructuredGrid()\n",
       " Triangulation id: 3118047460089147785"
      ]
     },
     "execution_count": 52,
     "metadata": {},
     "output_type": "execute_result"
    }
   ],
   "source": [
    "v2fix = v2h\n",
    "v2fix_vec = v2_vec\n",
    "u1fix = u1h"
   ]
  },
  {
   "cell_type": "code",
   "execution_count": 152,
   "metadata": {},
   "outputs": [
    {
     "data": {
      "text/plain": [
       "0.36320816326530625 + 2.677387755102041im"
      ]
     },
     "execution_count": 152,
     "metadata": {},
     "output_type": "execute_result"
    }
   ],
   "source": [
    "nm2"
   ]
  },
  {
   "cell_type": "code",
   "execution_count": null,
   "metadata": {},
   "outputs": [],
   "source": []
  }
 ],
 "metadata": {
  "kernelspec": {
   "display_name": "Julia 1.6.0",
   "language": "julia",
   "name": "julia-1.6"
  },
  "language_info": {
   "file_extension": ".jl",
   "mimetype": "application/julia",
   "name": "julia",
   "version": "1.6.2"
  }
 },
 "nbformat": 4,
 "nbformat_minor": 4
}
