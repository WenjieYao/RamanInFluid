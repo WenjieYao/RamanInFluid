{
 "cells": [
  {
   "cell_type": "code",
   "execution_count": 1,
   "metadata": {},
   "outputs": [
    {
     "data": {
      "text/plain": [
       "g0_p_optimize (generic function with 3 methods)"
      ]
     },
     "execution_count": 1,
     "metadata": {},
     "output_type": "execute_result"
    }
   ],
   "source": [
    "using Gridap, Gridap.Geometry, Gridap.Fields\n",
    "using Gmsh, GridapGmsh\n",
    "using GLMakie, DelimitedFiles, Interpolations\n",
    "using LinearAlgebra, SparseArrays, KrylovKit\n",
    "using ChainRulesCore, Zygote\n",
    "using PartitionedArrays\n",
    "using NLopt\n",
    "using GridapMakie\n",
    "\n",
    "import Gridap.CellData: Interpolable\n",
    "import ChainRulesCore: rrule\n",
    "import Gmsh: gmsh\n",
    "\n",
    "\n",
    "main_path = \"/Users/jayyao/Documents/Research/RamanInFluid/\"\n",
    "include(main_path*\"Materials/Materials.jl\")\n",
    "include(main_path*\"Module/Mesh_Periodic.jl\")\n",
    "include(main_path*\"Module/Helper.jl\")\n",
    "include(main_path*\"Module/GridapFE.jl\")\n",
    "include(main_path*\"Module/Control.jl\")\n",
    "include(main_path*\"Module/Model.jl\")\n",
    "include(main_path*\"Module/Objective.jl\")"
   ]
  },
  {
   "cell_type": "code",
   "execution_count": 78,
   "metadata": {},
   "outputs": [
    {
     "data": {
      "text/plain": [
       "(0.054007220216606505 + 3.42898916967509im, 0.05988059701492538 + 3.5892477611940294im)"
      ]
     },
     "execution_count": 78,
     "metadata": {},
     "output_type": "execute_result"
    }
   ],
   "source": [
    "material = \"Ag\"\n",
    "n_λ, k_λ = RefractiveIndex(material,main_path,true)\n",
    "λ1 = 532\n",
    "λ2 = 549\n",
    "nf = sqrt(1.77)\n",
    "nm1 = n_λ(λ1) + 1im * k_λ(λ1)\n",
    "nm2 = n_λ(λ2) + 1im * k_λ(λ2)\n",
    "μ = 1\n",
    "R = 1e-10\n",
    "g_flat_surface = 147 #25.25\n",
    "nm1,nm2"
   ]
  },
  {
   "cell_type": "code",
   "execution_count": 79,
   "metadata": {},
   "outputs": [
    {
     "name": "stdout",
     "output_type": "stream",
     "text": [
      "Info    : No current model available: creating one\n",
      "Info    : Clearing all models and views...\n",
      "Info    : Done clearing all models and views\n",
      "Info    : Reconstructing periodicity for curve connection 2 - 4\n",
      "Info    : Reconstructing periodicity for curve connection 5 - 7\n",
      "Info    : Reconstructing periodicity for curve connection 8 - 10\n",
      "Info    : Reconstructing periodicity for curve connection 11 - 13\n",
      "Info    : Reconstructing periodicity for curve connection 14 - 16\n",
      "Info    : Reconstructing periodicity for curve connection 17 - 19\n",
      "Info    : Reconstructing periodicity for curve connection 22 - 20\n",
      "Info    : Meshing 1D...\n",
      "Info    : Meshing curve 1 (Line)\n",
      "Info    : Meshing curve 3 (Line)\n",
      "Info    : Meshing curve 4 (Line)\n",
      "Info    : Meshing curve 6 (Line)\n",
      "Info    : Meshing curve 7 (Line)\n",
      "Info    : Meshing curve 9 (Line)\n",
      "Info    : Meshing curve 10 (Line)\n",
      "Info    : Meshing curve 12 (Line)\n",
      "Info    : Meshing curve 13 (Line)\n",
      "Info    : Meshing curve 15 (Line)\n",
      "Info    : Meshing curve 16 (Line)\n",
      "Info    : Meshing curve 18 (Line)\n",
      "Info    : Meshing curve 19 (Line)\n",
      "Info    : Meshing curve 20 (Line)\n",
      "Info    : Meshing curve 21 (Line)\n",
      "Info    : Meshing curve 22 (Line) as a copy of 20\n",
      "Info    : Meshing curve 2 (Line) as a copy of 4\n",
      "Info    : Meshing curve 5 (Line) as a copy of 7\n",
      "Info    : Meshing curve 8 (Line) as a copy of 10\n",
      "Info    : Meshing curve 11 (Line) as a copy of 13\n",
      "Info    : Meshing curve 14 (Line) as a copy of 16\n",
      "Info    : Meshing curve 17 (Line) as a copy of 19\n",
      "Info    : Done meshing 1D (0.006016 s)\n",
      "Info    : Meshing 2D...\n",
      "Info    : Meshing surface 1 (Plane, Frontal)\n",
      "Info    : Meshing surface 2 (Plane, Frontal)\n",
      "Info    : Meshing surface 3 (Plane, Frontal)\n",
      "Info    : Meshing surface 4 (Plane, Frontal)\n",
      "Info    : Meshing surface 5 (Plane, Frontal)\n",
      "Info    : Meshing surface 6 (Plane, Frontal)\n",
      "Info    : Meshing surface 7 (Plane, Frontal)\n",
      "Info    : Done meshing 2D (3.81719 s)\n",
      "Info    : 80093 vertices 160860 elements\n",
      "Info    : Writing 'geometry.msh'...\n",
      "Info    : Done writing 'geometry.msh'\n"
     ]
    },
    {
     "name": "stderr",
     "output_type": "stream",
     "text": [
      "Warning : Gmsh must be compiled with ANN support for finding closest vertices\n",
      "Warning : Gmsh must be compiled with ANN support for finding closest vertices\n",
      "Warning : Gmsh must be compiled with ANN support for finding closest vertices\n",
      "Warning : Gmsh must be compiled with ANN support for finding closest vertices\n",
      "Warning : Gmsh must be compiled with ANN support for finding closest vertices\n",
      "Warning : Gmsh must be compiled with ANN support for finding closest vertices\n",
      "Warning : Gmsh must be compiled with ANN support for finding closest vertices\n",
      "Warning : Gmsh must be compiled with ANN support for finding closest vertices\n",
      "Warning : Gmsh must be compiled with ANN support for finding closest vertices\n",
      "Warning : Gmsh must be compiled with ANN support for finding closest vertices\n",
      "Warning : Gmsh must be compiled with ANN support for finding closest vertices\n",
      "Warning : Gmsh must be compiled with ANN support for finding closest vertices\n",
      "Warning : Gmsh must be compiled with ANN support for finding closest vertices\n",
      "Warning : Gmsh must be compiled with ANN support for finding closest vertices\n",
      "Warning : Gmsh must be compiled with ANN support for finding closest vertices\n",
      "Warning : Gmsh must be compiled with ANN support for finding closest vertices\n",
      "Warning : Gmsh must be compiled with ANN support for finding closest vertices\n",
      "Warning : Gmsh must be compiled with ANN support for finding closest vertices\n",
      "Warning : Gmsh must be compiled with ANN support for finding closest vertices\n",
      "Warning : Gmsh must be compiled with ANN support for finding closest vertices\n",
      "Warning : Gmsh must be compiled with ANN support for finding closest vertices\n"
     ]
    },
    {
     "data": {
      "text/plain": [
       "PhysicalParameters(0.011444781980290685, 1.3304134695650072, 0.05988059701492538 + 3.5892477611940294im, 0.05988059701492538 + 3.5892477611940294im, 1.0, 1.0e-10, 300.0, (Inf, 903.1323390677645), (Inf, 100.0), 200.0)"
      ]
     },
     "execution_count": 79,
     "metadata": {},
     "output_type": "execute_result"
    }
   ],
   "source": [
    "hr = (λ1+λ2)/nf/4          # Height of Raman molecule\n",
    "# Geometry parameters of the mesh\n",
    "L = 300           # Length of the normal region\n",
    "hair = 500 + hr       # Height of the air region\n",
    "hs = 300 + hr         # Height of the source location in air\n",
    "ht = 200 + hr         # Height of the target location in air\n",
    "hd = 200          # Height of design domain\n",
    "hsub = 100        # Height of substrate domain below design domain\n",
    "dpml = 300        # Thickness of the PML\n",
    "hrd = (hd, hr)\n",
    "# Characteristic length (controls the resolution, smaller the finer)\n",
    "# resol = 30        # Number of points per wavelength\n",
    "l1 = 20      # Air\n",
    "l2 = 1       # Design domain\n",
    "l3 = l1           # PML\n",
    "\n",
    "meshfile = \"geometry.msh\"\n",
    "geo_param = PeriodicGeometry(L, hair, hs, ht, hd, hsub, dpml, l1, l2, l3)\n",
    "MeshGenerator(geo_param, meshfile)\n",
    "\n",
    "LHp=(Inf, hair + hd)  # Start of PML for x,y > 0\n",
    "LHn=(Inf, hsub)       # Start of PML for x,y < 0\n",
    "\n",
    "\n",
    "ω1 = 2 * π / λ1\n",
    "phys1 = PhysicalParameters(ω1, nf, nm1, nm1, μ, R, dpml, LHp, LHn, hd)\n",
    "ω2 = 2 * π / λ2\n",
    "phys2 = PhysicalParameters(ω2, nf, nm2, nm2, μ, R, dpml, LHp, LHn, hd)\n",
    "# run(`scp wyao@txe1-login.mit.edu:/home/gridsan/wyao/Research/RamanInFluid/cloud/task1/geometry.msh /Users/jayyao/Documents/Research/RamanInFluid/`)"
   ]
  },
  {
   "cell_type": "code",
   "execution_count": 80,
   "metadata": {},
   "outputs": [
    {
     "name": "stdout",
     "output_type": "stream",
     "text": [
      "Info    : Reading 'geometry.msh'...\n",
      "Info    : 45 entities\n",
      "Info    : 80093 nodes\n",
      "Info    : 160172 elements\n",
      "Info    : [ 10%] Reading elements                                          \r",
      "Info    : [ 20%] Reading elements                                          \r",
      "Info    : [ 30%] Reading elements                                          \r",
      "Info    : [ 40%] Reading elements                                          \r",
      "Info    : [ 50%] Reading elements                                          \r",
      "Info    : [ 50%] Reading elements                                          \r",
      "Info    : [ 60%] Reading elements                                          \r",
      "Info    : [ 70%] Reading elements                                          \r",
      "Info    : [ 80%] Reading elements                                          \r",
      "Info    : [ 90%] Reading elements                                          \r",
      "Info    : [100%] Reading elements                                          \r",
      "                                          \r",
      "Info    : Done reading 'geometry.msh'\n"
     ]
    },
    {
     "data": {
      "text/plain": [
       "GridapParameters(UnconstrainedFESpace(), UnconstrainedFESpace(), UnconstrainedFESpace(), UnconstrainedFESpace(), UnconstrainedFESpace(), UnconstrainedFESpace(), 138836, BodyFittedTriangulation(), Measure(), Measure(), Measure(), Measure(), Measure(), Measure(), GenericCellField(), Int8[8, 8, 8, 8, 8, 8, 8, 8, 8, 8  …  10, 10, 10, 10, 10, 10, 10, 10, 10, 10], 7)"
      ]
     },
     "execution_count": 80,
     "metadata": {},
     "output_type": "execute_result"
    }
   ],
   "source": [
    "############  Optimization parameters #############\n",
    "flag_f = true       # Turn on filter\n",
    "flag_t = true       # Turn on threshold\n",
    "\n",
    "# Filter and threshold paramters\n",
    "r = (2, 2)  # Filter radius\n",
    "β = 32.0                  # β∈[1,∞], threshold sharpness\n",
    "η = 0.5                   # η∈[0,1], threshold center\n",
    "\n",
    "α = 1.0 / (2 * 1000.0)    # Equivalent loss α = 1/2Q\n",
    "\n",
    "# Number of subspace\n",
    "K = 20\n",
    "\n",
    "# Amplify g for NLopt\n",
    "Amp = 1e-4\n",
    "\n",
    "# Sum over kx\n",
    "nkx = 30\n",
    "nparts = nkx / 2\n",
    "\n",
    "Bp = true          # Matrix B depend on parameters?\n",
    "pv = 1\n",
    "\n",
    "# Foundary constraint parameters\n",
    "c = (r[1])^4\n",
    "lw = r[1]\n",
    "ls = r[1]\n",
    "ηe = fηe(lw / r[1])\n",
    "ηd = fηd(lw / r[1])\n",
    "\n",
    "control = ControllingParameters(flag_f, flag_t, r, β, η, α, nparts, nkx, K, Amp, Bp, pv, c, ηe, ηd, hrd)\n",
    "\n",
    "gridap = GridapFE(meshfile, 1, 2, [\"DirichletEdges\", \"DirichletNodes\"], [\"DesignNodes\", \"DesignEdges\"], [\"Target\"], [\"Source\"], flag_f, true)\n"
   ]
  },
  {
   "cell_type": "code",
   "execution_count": 81,
   "metadata": {},
   "outputs": [
    {
     "name": "stdout",
     "output_type": "stream",
     "text": [
      "(g0_p(p_init; kb = 0, phys1, phys2, control, gridap) / L) / g_flat_surface = 24.088734687183855\n"
     ]
    },
    {
     "data": {
      "image/png": "[encoded data removed]",
      "text/plain": [
       "Figure()"
      ]
     },
     "execution_count": 81,
     "metadata": {},
     "output_type": "execute_result"
    }
   ],
   "source": [
    "using FileIO\n",
    "import Images: Gray\n",
    "# specify the path to your local image file\n",
    "img_path = \"Initial/L300b.png\"\n",
    "img = load(img_path)\n",
    "data = 1.0 .-Float64.(Gray.(img))\n",
    "function image_to_function(x, data, Lx, Ly)\n",
    "    Nx, Ny = size(data)\n",
    "    if x[2] < 5\n",
    "        return 1.0\n",
    "    end\n",
    "    xi = Nx - Int(round(((x[2]-100)/Lx + 0.5) * Nx))\n",
    "    yi = Int(round((((x[1]+Ly/2) % Ly)/Ly) * Ny))\n",
    "    if xi > 0 && xi <= Nx && yi > 0 && yi <= Ny\n",
    "        return data[xi,yi]\n",
    "    else\n",
    "        return 0.0\n",
    "    end\n",
    "end\n",
    "\n",
    "# binit(v) = ∫(v * x->image_to_function(x, data, 200, 150))gridap.dΩ\n",
    "binit(v) = ∫(v * x->image_to_function(x, data, hd, 300))gridap.dΩ\n",
    "pc_vec = assemble_vector(binit, gridap.FE_P)\n",
    "p_init = p_extract(pc_vec; gridap)\n",
    "p_init[p_init .< 0.1] .= 0\n",
    "p_init[p_init .> 0.1] .= 1\n",
    "\n",
    "#p_init = ones(gridap.np)\n",
    "pf_vec = pf_p0(p_init; control, gridap)\n",
    "pfh = FEFunction(gridap.FE_Pf, pf_vec)\n",
    "pth = (pf -> Threshold(pf; control)) ∘ pfh\n",
    "\n",
    "@show g0_p(p_init; kb=0, phys1, phys2, control, gridap)/L/g_flat_surface\n",
    "fig, ax, plt = plot(gridap.Ω, pth, colormap = :binary)\n",
    "Colorbar(fig[1,2], plt)\n",
    "ax.aspect = AxisAspect(L/(hd))\n",
    "ax.title = \"Design Shape\"\n",
    "limits!(ax, -L/2, L/2, 0, hd)\n",
    "# save(\"Results/shape.png\", fig)\n",
    "fig"
   ]
  },
  {
   "cell_type": "code",
   "execution_count": 22,
   "metadata": {},
   "outputs": [
    {
     "name": "stdout",
     "output_type": "stream",
     "text": [
      "(g0_p(p_init; kb, phys1, phys2, control, gridap) / L) / g_flat_surface = 84.46786468525453\n"
     ]
    },
    {
     "data": {
      "image/png": "[encoded data removed]",
      "text/plain": [
       "Figure()"
      ]
     },
     "execution_count": 22,
     "metadata": {},
     "output_type": "execute_result"
    }
   ],
   "source": [
    "function p_bowtie(x, d, h, L, hd)\n",
    "    dx = abs(x[1]) - d / 2 \n",
    "    dy = abs(x[2] - hd / 2)\n",
    "    bowtie = 0\n",
    "    if dx >= 0 && dy <= h / (L - d) * dx\n",
    "        bowtie = 1\n",
    "    end\n",
    "    return bowtie\n",
    "end\n",
    "\n",
    "function p_triangle(x, h, L)\n",
    "    dx = abs(x[1])\n",
    "    dy = x[2]\n",
    "    if dy <= (1-2*dx/L)*h\n",
    "        return 1\n",
    "    else\n",
    "        return 0\n",
    "    end\n",
    "end\n",
    "\n",
    "function p_circle(x, radius)\n",
    "    if x[2]<=5 || (x[1]^2+(x[2]-radius-5)^2)<=radius^2\n",
    "        return 1\n",
    "    else\n",
    "        return 0\n",
    "    end\n",
    "end\n",
    "\n",
    "kb = 0\n",
    "p_trunc(x, ratio) = x[2] < (ratio * hd) ? 1 : 0\n",
    "# binitialfunc(v) = ∫(v * x->p_trunc(x, 0.5))gridap.dΩ\n",
    "# binitialfunc(v) = ∫(v * x->p_bowtie(x, -11, 95, L, hd))gridap.dΩ\n",
    "# binitialfunc(v) = ∫(v * x->p_triangle(x, 0.8*hd, 2*L))gridap.dΩ\n",
    "binitialfunc(v) = ∫(v * x->p_circle(x, 155))gridap.dΩ\n",
    "pc_vec = assemble_vector(binitialfunc, gridap.FE_P)\n",
    "#A_base = assemble_matrix((u,v)->(∫(u*v)gridap.dΩ), gridap.FE_P, gridap.FE_Q)\n",
    "#pc_vec = A_base\\pc_vec\n",
    "p_init = p_extract(pc_vec; gridap)\n",
    "p_init[p_init .< 0.1] .= 0\n",
    "p_init[p_init .> 0.1] .= 1.0\n",
    "\n",
    "\n",
    "pf_vec = pf_p0(p_init; control, gridap)\n",
    "pfh = FEFunction(gridap.FE_Pf, pf_vec)\n",
    "pth = (pf -> Threshold(pf; control)) ∘ pfh\n",
    "fig, ax, plt = plot(gridap.Ω, pth, colormap = :binary)\n",
    "Colorbar(fig[1,2], plt)\n",
    "ax.aspect = AxisAspect(L/(hd))\n",
    "ax.title = \"Design Shape\"\n",
    "limits!(ax, -L/2, L/2, 0, hd)\n",
    "@show g0_p(p_init; kb, phys1, phys2, control, gridap)/L/g_flat_surface\n",
    "fig"
   ]
  },
  {
   "cell_type": "code",
   "execution_count": null,
   "metadata": {},
   "outputs": [],
   "source": [
    "#p_init = ones(gridap.np) * 0.5 #+ rand(gridap.np) * 1e-2\n",
    "β_list = [8.0, 8.0, 16.0, 16.0, 32.0, 32.0, 32.0]\n",
    "Q_list = [10.0, 50.0, 100.0, 500.0, 1000.0, 1000.0, 1000.0]\n",
    "d_list = [1e-4, 5e-4, 1e-3, 5e-3, 1e-2, 1e-2, 1e-2]*1e2\n",
    "\n",
    "g_opt = 0\n",
    "usat = Inf#(10)^2/4\n",
    "#damp = 1\n",
    "for bi = 1 : 6\n",
    "    β = β_list[bi]\n",
    "    α = 1/(2*Q_list[bi])\n",
    "    damp = d_list[bi] * 4\n",
    "    if bi < 9\n",
    "        c = 0\n",
    "        control = ControllingParameters(flag_f, flag_t, r, β, η, α, nparts, nkx, K, Amp, Bp, pv, c, ηe, ηd, hrd)\n",
    "    else\n",
    "        c = (r[1])^4\n",
    "        control = ControllingParameters(flag_f, flag_t, r, β, η, α, nparts, nkx, K, Amp, Bp, pv, c, ηe, ηd, hrd)\n",
    "    end\n",
    "\n",
    "    if bi == 1\n",
    "        g_opt, p_opt = g0_p_optimize(p_init, 1e-8, 70; phys1, phys2, control, gridap, usat, damp)\n",
    "    \n",
    "    else\n",
    "        g_opt, p_opt = g0_p_optimize([], 1e-8, 70; phys1, phys2, control, gridap, usat, damp)\n",
    "    end\n",
    "#     if bi == 6\n",
    "#         g_opt, p_opt = g0_p_optimize(p_init, 1e-12, 70; phys1, phys2, control, gridap)\n",
    "    \n",
    "#     else\n",
    "#         g_opt, p_opt = g0_p_optimize([], 1e-12, 70; phys1, phys2, control, gridap)\n",
    "#     end\n",
    "    if isfile(\"p_opt.value.txt\")\n",
    "        run(`rm p_opt_value.txt`)\n",
    "    end\n",
    "    open(\"p_opt_value.txt\", \"w\") do iop\n",
    "        for i = 1 : length(p_opt)\n",
    "            p_temp = p_opt[i]\n",
    "            write(iop, \"$p_temp \\n\")\n",
    "        end\n",
    "    end\n",
    "    open(\"g_opt_value.txt\", \"a\") do io\n",
    "        write(io, \"$g_opt \\n\")\n",
    "    end\n",
    "end\n",
    "@show g_opt"
   ]
  },
  {
   "cell_type": "code",
   "execution_count": null,
   "metadata": {},
   "outputs": [],
   "source": [
    "# Output and view\n",
    "ImportFromFile = true\n",
    "N = num_free_dofs(gridap.FE_U)\n",
    "if ImportFromFile\n",
    "    #p_max = readdlm(\"cloud/task5/p_opt_value.txt\", Float64)\n",
    "    p_max = readdlm(\"p_opt_value.txt\", Float64)\n",
    "    p0 = p_max[:]\n",
    "#     p_cutoff = 0.5\n",
    "#     p0[p0.<p_cutoff] .= 0.0\n",
    "#     p0[p0.>p_cutoff] .= 1.0\n",
    "else\n",
    "    p0 = zeros(gridap.np)\n",
    "end\n",
    "\n",
    "kb = 0\n",
    "usat = Inf#(10)^2/4\n",
    "damp = 4\n",
    "\n",
    "pf_vec = pf_p0(p0; control, gridap)\n",
    "pfh = FEFunction(gridap.FE_Pf, pf_vec)\n",
    "pth = (pf -> Threshold(pf; control)) ∘ pfh\n",
    "A1_mat = MatrixA(pth, kb; phys=phys1, control, gridap)\n",
    "b1_vec = assemble_vector(v->(∫(v)gridap.dΓ_s), gridap.FE_V)\n",
    "u1_vec = A1_mat \\ b1_vec\n",
    "u1h = FEFunction(gridap.FE_U, u1_vec)\n",
    "\n",
    "A2_mat = MatrixA(pth, kb; phys=phys2, control, gridap)\n",
    "o_vec = VectorO(1, 1; gridap)\n",
    "v2_vec = A2_mat' \\ o_vec\n",
    "v2h = FEFunction(gridap.FE_U, v2_vec)\n",
    "\n",
    "@show g0_p(p0; kb=0, phys1, phys2, control, gridap, usat, damp)/L/g_flat_surface\n",
    "\n",
    "fig, ax, plt = plot(gridap.Ω, pth, colormap = :binary)\n",
    "Colorbar(fig[1,2], plt)\n",
    "ax.aspect = AxisAspect(L/(hd))\n",
    "ax.title = \"Design Shape\"\n",
    "limits!(ax, -L/2, L/2, 0, hd)\n",
    "save(\"Results/shape.png\", fig)\n",
    "fig"
   ]
  },
  {
   "cell_type": "code",
   "execution_count": null,
   "metadata": {},
   "outputs": [],
   "source": [
    "# A1_mat = MatrixA(pth, 0; phys=phys1, control, gridap)\n",
    "# b1_vec = assemble_vector(v->(∫(v)gridap.dΓ_s), gridap.FE_V)\n",
    "# u1_vec = A1_mat \\ b1_vec\n",
    "# u1h = FEFunction(gridap.FE_U, u1_vec)\n",
    "maxv = maximum(abs.(u1_vec))/1\n",
    "maxe = 20#usat\n",
    "e1=abs2(phys1.nf^2)\n",
    "e2=abs2(phys1.nm^2)\n",
    "#fig, ax, plt = plot(gridap.Ω, real(u1h), colormap = :bwr, colorrange=(-maxv, maxv))\n",
    "#fig, ax, plt = plot(gridap.Ω, abs2(u1h), colormap = :hot, colorrange=(0, maxv^2))\n",
    "fig, ax, plt = plot(gridap.Ω, 2*(sqrt∘(abs((conj(∇(u1h)) ⋅ ∇(u1h))/(e1 + (e2 - e1) * pth)))), colormap = :hot, colorrange=(0, maxe))\n",
    "Colorbar(fig[1,2], plt)\n",
    "#ax.title = \"|H|\"\n",
    "ax.title = \"|E|\"\n",
    "#ax.aspect = AxisAspect(L/(phys1.LHp[2]+phys1.LHn[2]))\n",
    "#limits!(ax, -L/2, L/2, -phys1.LHn[2], phys1.LHp[2])\n",
    "ax.aspect = AxisAspect(L/(hd+hr*1))\n",
    "limits!(ax, -L/2, L/2, 0, hd+hr*1)\n",
    "save(\"Results/Field.png\", fig)\n",
    "fig"
   ]
  },
  {
   "cell_type": "code",
   "execution_count": 45,
   "metadata": {
    "collapsed": true
   },
   "outputs": [
    {
     "name": "stdout",
     "output_type": "stream",
     "text": [
      "ei = 1\n",
      "ei = 2\n",
      "ei = 3\n",
      "ei = 4\n",
      "ei = 5\n",
      "ei = 6\n",
      "ei = 7\n",
      "ei = 8\n",
      "ei = 9\n",
      "ei = 10\n",
      "ei = 11\n",
      "ei = 12\n",
      "ei = 13\n",
      "ei = 14\n",
      "ei = 15\n",
      "ei = 16\n",
      "ei = 17\n",
      "ei = 18\n",
      "ei = 19\n",
      "ei = 20\n",
      "ei = 21\n",
      "ei = 22\n",
      "ei = 23\n",
      "ei = 24\n",
      "ei = 25\n",
      "ei = 26\n",
      "ei = 27\n",
      "ei = 28\n",
      "ei = 29\n",
      "ei = 30\n",
      "ei = 31\n",
      "ei = 32\n",
      "ei = 33\n",
      "ei = 34\n",
      "ei = 35\n",
      "ei = 36\n",
      "ei = 37\n",
      "ei = 38\n",
      "ei = 39\n",
      "ei = 40\n",
      "ei = 41\n",
      "ei = 42\n",
      "ei = 43\n",
      "ei = 44\n",
      "ei = 45\n",
      "ei = 46\n",
      "ei = 47\n",
      "ei = 48\n",
      "ei = 49\n",
      "ei = 50\n"
     ]
    }
   ],
   "source": [
    "Neth = 50\n",
    "damp = 4\n",
    "eth_list = range(1,Neth,step=1)\n",
    "g_sat = zeros(Neth)\n",
    "psat = p0\n",
    "for ei = 1:Neth\n",
    "    @show ei\n",
    "    eth = eth_list[ei]\n",
    "    usat = eth^2/4\n",
    "    g_sat[ei] = g0_p(psat; kb=0, phys1, phys2, control, gridap, usat, damp)/L/g_flat_surface\n",
    "    open(\"L300Sat10.txt\", \"a\") do io\n",
    "        write(io, \"$(g_sat[ei]) \\n\")\n",
    "    end\n",
    "end\n"
   ]
  },
  {
   "cell_type": "code",
   "execution_count": 67,
   "metadata": {},
   "outputs": [
    {
     "data": {
      "image/png": "[encoded data removed]",
      "text/plain": [
       "Scene (700px, 450px):\n",
       "  18 Plots:\n",
       "    ├ Combined{Makie.poly, Tuple{Vector{Vector{GeometryBasics.Point{2, Float32}}}}}\n",
       "    ├ LineSegments{Tuple{Vector{GeometryBasics.Point{2, Float32}}}}\n",
       "    ├ LineSegments{Tuple{Vector{GeometryBasics.Point{2, Float32}}}}\n",
       "    ├ LineSegments{Tuple{Vector{GeometryBasics.Point{2, Float32}}}}\n",
       "    ├ LineSegments{Tuple{Vector{GeometryBasics.Point{2, Float32}}}}\n",
       "    ├ LineSegments{Tuple{Vector{GeometryBasics.Point{2, Float32}}}}\n",
       "    ├ LineSegments{Tuple{Vector{GeometryBasics.Point{2, Float32}}}}\n",
       "    ├ MakieCore.Text{Tuple{String}}\n",
       "    ├ Lines{Tuple{Vector{GeometryBasics.Point{2, Float32}}}}\n",
       "    ├ MakieCore.Text{Tuple{Vector{Tuple{AbstractString, GeometryBasics.Point{2, Float32}}}}}\n",
       "    ├ LineSegments{Tuple{Vector{GeometryBasics.Point{2, Float32}}}}\n",
       "    ├ LineSegments{Tuple{Vector{GeometryBasics.Point{2, Float32}}}}\n",
       "    ├ MakieCore.Text{Tuple{String}}\n",
       "    ├ Lines{Tuple{Vector{GeometryBasics.Point{2, Float32}}}}\n",
       "    ├ MakieCore.Text{Tuple{Vector{Tuple{AbstractString, GeometryBasics.Point{2, Float32}}}}}\n",
       "    ├ Lines{Tuple{Vector{GeometryBasics.Point{2, Float32}}}}\n",
       "    ├ Lines{Tuple{Vector{GeometryBasics.Point{2, Float32}}}}\n",
       "    └ MakieCore.Text{Tuple{String}}\n",
       "  1 Child Scene:\n",
       "    └ Scene (579px, 342px)"
      ]
     },
     "execution_count": 67,
     "metadata": {},
     "output_type": "execute_result"
    }
   ],
   "source": [
    "g1 = readdlm(\"Results/SatFun/CircleSat.txt\")\n",
    "g2 = readdlm(\"Results/SatFun/L400Sat.txt\")\n",
    "g3 = readdlm(\"Results/SatFun/L300Sat.txt\")\n",
    "g4 = readdlm(\"Results/SatFun/L100Sat.txt\")\n",
    "g5 = readdlm(\"Results/SatFun/L300Sat10.txt\")\n",
    "eth_list = range(1,50,step=1)\n",
    "\n",
    "scene, layout = layoutscene(resolution=(1400/2,900/2))\n",
    "ax = layout[1,1]=Axis(scene)\n",
    "ms = 3\n",
    "\n",
    "lin1 = lines!(ax,eth_list,g1[:],linewidth=ms,color=:black)\n",
    "lin2 = lines!(ax,eth_list,g2[:],linewidth=ms)\n",
    "lin3 = lines!(ax,eth_list,g3[:],linewidth=ms)\n",
    "lin4 = lines!(ax,eth_list,g4[:],linewidth=ms)\n",
    "lin5 = lines!(ax,eth_list,g5[:],linewidth=ms)\n",
    "#ax.yscale = log10\n",
    "ax.xlabel=\"|Eth/E₀|\"\n",
    "ax.ylabel=\"Power\"\n",
    "#ax.title=\"Eigenvalue distribution\"\n",
    "\n",
    "# Legend(layout[1,1],[lin1, lin2],[\"Initial\", \"Optimized\"])\n",
    "# axislegend(ax, [lin1, lin2, lin3, lin4, lin5],[\"Optimized Cylinder\", \"L=400 nm\", \"L=300 nm\", \"L=100 nm\", \"Optimized with |Eth/E₀|=10\"], \n",
    "#     position = :lt, orientation = :vertical)\n",
    "save(\"Results/SatFun/EF_Eth.png\",scene)\n",
    "scene"
   ]
  },
  {
   "cell_type": "code",
   "execution_count": null,
   "metadata": {},
   "outputs": [],
   "source": [
    "# gvalues = readdlm(\"gvalue.txt\", Float64)\n",
    "# gavlues = gvalues[:]\n",
    "include(main_path*\"Module/Model.jl\")\n",
    "include(main_path*\"Module/Objective.jl\")"
   ]
  },
  {
   "cell_type": "code",
   "execution_count": null,
   "metadata": {},
   "outputs": [],
   "source": [
    "ptest = p0#rand(gridap.np)\n",
    "δp = rand(gridap.np)*1e-8\n",
    "grad = zeros(gridap.np)\n",
    "\n",
    "kb = 0.0 * ω1\n",
    "usat = Inf\n",
    "damp = 10\n",
    "# g0 = g0_p(p0, grad; kb, phys1, phys2, control, gridap)\n",
    "# g1 = g0_p(p0+δp,[]; kb, phys1, phys2, control, gridap)\n",
    "g0 = g0_p(ptest, grad; kb, phys1, phys2, control, gridap,usat,damp)\n",
    "g1 = g0_p(ptest+δp,[]; kb, phys1, phys2, control, gridap,usat,damp)\n",
    "g1-g0, grad'*δp\n",
    "#1.609129978462141e8"
   ]
  },
  {
   "cell_type": "code",
   "execution_count": 65,
   "metadata": {},
   "outputs": [
    {
     "data": {
      "text/plain": [
       "(25.250789503263903, 25.250789503263903)"
      ]
     },
     "execution_count": 65,
     "metadata": {},
     "output_type": "execute_result"
    }
   ],
   "source": [
    "usat = 10\n",
    "damp = 10\n",
    "ptest = zeros(gridap.np)\n",
    "#LSConstraint(ptest, []; control, gridap), LWConstraint(ptest, []; control, gridap)\n",
    "g0_p(ptest; kb=0, phys1, phys2, control, gridap, usat, damp)/L, g0_p(ptest; kb=0, phys1, phys2, control, gridap)/L"
   ]
  },
  {
   "cell_type": "code",
   "execution_count": null,
   "metadata": {},
   "outputs": [],
   "source": [
    "Nwave = 100\n",
    "raman_shift = 17\n",
    "gwave = zeros(Nwave)\n",
    "λ1_list = zeros(Nwave)\n",
    "\n",
    "p_max = readdlm(\"p_opt_value.txt\", Float64)\n",
    "p_cur = p_max[:]\n",
    "\n",
    "for li = 1:Nwave\n",
    "    λ1 = 532 +(li-25) * 5\n",
    "    λ1_list[li] = λ1\n",
    "    λ2 = λ1 + raman_shift\n",
    "    nm1 = n_λ(λ1) + 1im * k_λ(λ1)\n",
    "    nm2 = n_λ(λ2) + 1im * k_λ(λ2)\n",
    "    ω1 = 2 * π / λ1\n",
    "    phys1 = PhysicalParameters(ω1, nf, nm1, nm1, μ, R, dpml, LHp, LHn, hd)\n",
    "    ω2 = 2 * π / λ2\n",
    "    phys2 = PhysicalParameters(ω2, nf, nm2, nm2, μ, R, dpml, LHp, LHn, hd)\n",
    "    gwave[li] = g0_p(p_cur, []; kb=0, phys1, phys2, control, gridap)/control.Amp\n",
    "end\n",
    "\n",
    "scene, layout = layoutscene(resolution=(1400,900))\n",
    "ax = layout[1,1]=Axis(scene)\n",
    "\n",
    "lin1=lines!(ax,λ1_list, gwave[:])\n",
    "# grad = zeros(gridap.np)\n",
    "# g0_p(p0, grad; kb, phys1, phys2, control, gridap)\n",
    "#ax.yscale = log10\n",
    "ax.xlabel=\"λ\"\n",
    "ax.ylabel=\"Power\"\n",
    "#ax.title=\"Eigenvalue distribution\"\n",
    "\n",
    "# Legend(layout[1,1],[lin1, lin2],[\"Initial\", \"Optimized\"])\n",
    "# axislegend(ax, [lin1, lin2, lin3],[\"All\",\"Far field\",\"Difference\"], position = :lt,\n",
    "#     orientation = :vertical)\n",
    "# save(\"Results/EigenValDistributionIO.png\",scene)\n",
    "scene"
   ]
  },
  {
   "cell_type": "code",
   "execution_count": null,
   "metadata": {},
   "outputs": [],
   "source": [
    "Nperiod = 31\n",
    "usat = (10)^2/4\n",
    "damp = 4\n",
    "gmax = zeros(Nperiod)\n",
    "rmax = zeros(Nperiod)\n",
    "for li = 1:Nperiod\n",
    "    L = 100 + (li-1) * 10\n",
    "    geo_param = PeriodicGeometry(L, hair, hs, ht, hd, hsub, dpml, l1, l2, l3)\n",
    "    MeshGenerator(geo_param, meshfile)\n",
    "    gridap = GridapFE(meshfile, 1, 2, [\"DirichletEdges\", \"DirichletNodes\"], [\"DesignNodes\", \"DesignEdges\"], [\"Target\"], [\"Source\"], flag_f, true)\n",
    "\n",
    "    for radius = 5:Int64(L/2)\n",
    "        binitialfunc(v) = ∫(v * x->p_circle(x, radius))gridap.dΩ\n",
    "        pc_vec = assemble_vector(binitialfunc, gridap.FE_P)\n",
    "        p_init = p_extract(pc_vec; gridap)\n",
    "        p_init[p_init .< 0.1] .= 0\n",
    "        p_init[p_init .> 0.1] .= 1\n",
    "        gtemp = g0_p(p_init; kb=0, phys1, phys2, control, gridap, usat, damp)/L/g_flat_surface\n",
    "        if gtemp > gmax[li]\n",
    "            gmax[li] = gtemp\n",
    "            rmax[li] = radius\n",
    "        end\n",
    "    end\n",
    "    @show L, gmax[li], rmax[li]\n",
    "end\n",
    "rmax"
   ]
  },
  {
   "cell_type": "code",
   "execution_count": null,
   "metadata": {},
   "outputs": [],
   "source": [
    "gmax = 0\n",
    "dmax = 0\n",
    "hmax = 0\n",
    "for d = -19:1:1\n",
    "    for h = 91:1:109\n",
    "        bowtie_temp(v) = ∫(v * x->p_bowtie(x, d, h, L, hd))gridap.dΩ\n",
    "        pc_vec = assemble_vector(bowtie_temp, gridap.FE_P)\n",
    "        p_init = p_extract(pc_vec; gridap)\n",
    "        p_init[p_init .< 0.1] .= 0\n",
    "        p_init[p_init .> 0.1] .= 1\n",
    "        @show gtemp = g0_p(p_init; kb=0, phys1, phys2, control, gridap)/L/g_flat_surface\n",
    "        if gtemp > gmax\n",
    "            gmax = gtemp\n",
    "            dmax = d\n",
    "            hmax = h\n",
    "        end\n",
    "    end\n",
    "end\n",
    "gmax, dmax, hmax\n",
    "# [100,1,180]"
   ]
  },
  {
   "cell_type": "code",
   "execution_count": null,
   "metadata": {},
   "outputs": [],
   "source": [
    "Ng = 40\n",
    "g_list = zeros(Ng)\n",
    "g0_list = zeros(Ng)\n",
    "g1_list = zeros(Ng)\n",
    "h_list = zeros(Ng)\n",
    "\n",
    "for hi = 1:Ng\n",
    "    print(hi,\"\\n\")\n",
    "    λ2 = 549/sqrt(1.77)\n",
    "    hr = (hi+0) * λ2 / 2\n",
    "    h_list[hi] = hr/λ2\n",
    "    gp, g0= g_hr(hr)\n",
    "    # gp, g0, g1= g_hr(hr)\n",
    "    g_list[hi] = gp\n",
    "    g0_list[hi] = g0\n",
    "    # g1_list[hi] = g1\n",
    "    # g_list[hi] = g_hr_fixmesh(pth, hr; phys1, phys2, control, gridap)\n",
    "end"
   ]
  },
  {
   "cell_type": "code",
   "execution_count": null,
   "metadata": {},
   "outputs": [],
   "source": [
    "open(\"Bowtie.txt\", \"w\") do iop\n",
    "    for i = 1 : length(h_list)\n",
    "        h_temp = h_list[i]\n",
    "        g_temp = g_list[i]\n",
    "        write(iop, \"$h_temp $g_temp \\n\")\n",
    "    end\n",
    "end"
   ]
  },
  {
   "cell_type": "code",
   "execution_count": null,
   "metadata": {},
   "outputs": [],
   "source": [
    "gh0 = readdlm(\"FlatSurface.txt\")\n",
    "ghp = readdlm(\"Bowtie.txt\")\n",
    "h0_list = gh0[:,1]\n",
    "g0_list = gh0[:,2]\n",
    "gp_list = ghp[:,2]\n",
    "GLMakie.lines(h0_list, gp_list-g0_list)"
   ]
  },
  {
   "cell_type": "code",
   "execution_count": 11,
   "metadata": {},
   "outputs": [
    {
     "data": {
      "image/png": "[encoded data removed]",
      "text/plain": [
       "FigureAxisPlot()"
      ]
     },
     "execution_count": 11,
     "metadata": {},
     "output_type": "execute_result"
    }
   ],
   "source": [
    "sat_test(x, sat, damp) = 1 ./ (1 .+ exp.(damp*(x.-sat)))\n",
    "xx = range(1,50,step=1)\n",
    "lines(xx, sat_test(xx.^2, 20^2, 4))"
   ]
  },
  {
   "cell_type": "code",
   "execution_count": 16,
   "metadata": {},
   "outputs": [
    {
     "data": {
      "text/plain": [
       "0.5"
      ]
     },
     "execution_count": 16,
     "metadata": {},
     "output_type": "execute_result"
    }
   ],
   "source": [
    "sat_test(20.0^2, 20^2, 4)"
   ]
  },
  {
   "cell_type": "code",
   "execution_count": null,
   "metadata": {},
   "outputs": [],
   "source": [
    "a=rand(ComplexF64, 2)\n",
    "b=conj(a)*exp(1im)\n",
    "(a'*a)*(b'*b), abs2(transpose(a)*b)"
   ]
  },
  {
   "cell_type": "code",
   "execution_count": 71,
   "metadata": {},
   "outputs": [
    {
     "data": {
      "text/plain": [
       "-23.025850929940457"
      ]
     },
     "execution_count": 71,
     "metadata": {},
     "output_type": "execute_result"
    }
   ],
   "source": [
    "log(1e-10)"
   ]
  },
  {
   "cell_type": "code",
   "execution_count": null,
   "metadata": {},
   "outputs": [],
   "source": []
  }
 ],
 "metadata": {
  "kernelspec": {
   "display_name": "Julia 1.6.0",
   "language": "julia",
   "name": "julia-1.6"
  },
  "language_info": {
   "file_extension": ".jl",
   "mimetype": "application/julia",
   "name": "julia",
   "version": "1.6.2"
  }
 },
 "nbformat": 4,
 "nbformat_minor": 4
}
