{
 "cells": [
  {
   "cell_type": "code",
   "execution_count": 15,
   "metadata": {},
   "outputs": [
    {
     "data": {
      "text/plain": [
       "g0_p_optimize (generic function with 3 methods)"
      ]
     },
     "execution_count": 15,
     "metadata": {},
     "output_type": "execute_result"
    }
   ],
   "source": [
    "using Gridap, Gridap.Geometry, Gridap.Fields\n",
    "using Gmsh, GridapGmsh\n",
    "using GLMakie, DelimitedFiles, Interpolations\n",
    "using LinearAlgebra, SparseArrays, KrylovKit\n",
    "using ChainRulesCore, Zygote\n",
    "using PartitionedArrays\n",
    "using NLopt\n",
    "using GridapMakie\n",
    "\n",
    "import Gridap.CellData: Interpolable\n",
    "import ChainRulesCore: rrule\n",
    "import Gmsh: gmsh\n",
    "\n",
    "\n",
    "main_path = \"/Users/jayyao/Documents/Research/RamanInFluid/\"\n",
    "include(main_path*\"Materials/Materials.jl\")\n",
    "include(main_path*\"Module/Mesh_Periodic.jl\")\n",
    "include(main_path*\"Module/Helper.jl\")\n",
    "include(main_path*\"Module/GridapFE.jl\")\n",
    "include(main_path*\"Module/Control.jl\")\n",
    "include(main_path*\"Module/Model.jl\")\n",
    "include(main_path*\"Module/Objective.jl\")"
   ]
  },
  {
   "cell_type": "code",
   "execution_count": 16,
   "metadata": {},
   "outputs": [
    {
     "data": {
      "text/plain": [
       "(0.12931555555555557 + 3.1932im, 0.12536326530612246 + 3.330816326530612im)"
      ]
     },
     "execution_count": 16,
     "metadata": {},
     "output_type": "execute_result"
    }
   ],
   "source": [
    "material = \"Silver\"\n",
    "n_λ, k_λ = RefractiveIndex(material,main_path)\n",
    "λ1 = 532\n",
    "λ2 = 549\n",
    "nm1 = n_λ(λ1) + 1im * k_λ(λ1)\n",
    "nm2 = n_λ(λ2) + 1im * k_λ(λ2)\n",
    "nf = sqrt(1.77)\n",
    "μ = 1\n",
    "R = 1e-10\n",
    "nm1,nm2"
   ]
  },
  {
   "cell_type": "code",
   "execution_count": 17,
   "metadata": {
    "collapsed": true
   },
   "outputs": [
    {
     "name": "stdout",
     "output_type": "stream",
     "text": [
      "Info    : No current model available: creating one\n",
      "Info    : Clearing all models and views...\n",
      "Info    : Done clearing all models and views\n",
      "Info    : Reconstructing periodicity for curve connection 2 - 4\n",
      "Info    : Reconstructing periodicity for curve connection 5 - 7\n",
      "Info    : Reconstructing periodicity for curve connection 8 - 10\n",
      "Info    : Reconstructing periodicity for curve connection 11 - 13\n",
      "Info    : Reconstructing periodicity for curve connection 14 - 16\n",
      "Info    : Reconstructing periodicity for curve connection 17 - 19\n",
      "Info    : Reconstructing periodicity for curve connection 22 - 20\n",
      "Info    : Meshing 1D...\n",
      "Info    : Meshing curve 1 (Line)\n",
      "Info    : Meshing curve 3 (Line)\n",
      "Info    : Meshing curve 4 (Line)\n",
      "Info    : Meshing curve 6 (Line)\n",
      "Info    : Meshing curve 7 (Line)\n",
      "Info    : Meshing curve 9 (Line)\n",
      "Info    : Meshing curve 10 (Line)\n",
      "Info    : Meshing curve 12 (Line)\n",
      "Info    : Meshing curve 13 (Line)\n",
      "Info    : Meshing curve 15 (Line)\n",
      "Info    : Meshing curve 16 (Line)\n",
      "Info    : Meshing curve 18 (Line)\n",
      "Info    : Meshing curve 19 (Line)\n",
      "Info    : Meshing curve 20 (Line)\n",
      "Info    : Meshing curve 21 (Line)\n",
      "Info    : Meshing curve 22 (Line) as a copy of 20\n",
      "Info    : Meshing curve 2 (Line) as a copy of 4\n",
      "Info    : Meshing curve 5 (Line) as a copy of 7\n",
      "Info    : Meshing curve 8 (Line) as a copy of 10\n",
      "Info    : Meshing curve 11 (Line) as a copy of 13\n",
      "Info    : Meshing curve 14 (Line) as a copy of 16\n",
      "Info    : Meshing curve 17 (Line) as a copy of 19\n",
      "Info    : Done meshing 1D (0.006704 s)\n",
      "Info    : Meshing 2D...\n",
      "Info    : Meshing surface 1 (Plane, Frontal)\n",
      "Info    : Meshing surface 2 (Plane, Frontal)\n",
      "Info    : Meshing surface 3 (Plane, Frontal)\n",
      "Info    : Meshing surface 4 (Plane, Frontal)\n",
      "Info    : Meshing surface 5 (Plane, Frontal)\n",
      "Info    : Meshing surface 6 (Plane, Frontal)\n",
      "Info    : Meshing surface 7 (Plane, Frontal)\n",
      "Info    : Done meshing 2D (3.10244 s)\n",
      "Info    : 81549 vertices 163592 elements\n",
      "Info    : Writing 'geometry.msh'...\n",
      "Info    : Done writing 'geometry.msh'\n"
     ]
    },
    {
     "name": "stderr",
     "output_type": "stream",
     "text": [
      "Warning : Gmsh must be compiled with ANN support for finding closest vertices\n",
      "Warning : Gmsh must be compiled with ANN support for finding closest vertices\n",
      "Warning : Gmsh must be compiled with ANN support for finding closest vertices\n",
      "Warning : Gmsh must be compiled with ANN support for finding closest vertices\n",
      "Warning : Gmsh must be compiled with ANN support for finding closest vertices\n",
      "Warning : Gmsh must be compiled with ANN support for finding closest vertices\n",
      "Warning : Gmsh must be compiled with ANN support for finding closest vertices\n",
      "Warning : Gmsh must be compiled with ANN support for finding closest vertices\n",
      "Warning : Gmsh must be compiled with ANN support for finding closest vertices\n",
      "Warning : Gmsh must be compiled with ANN support for finding closest vertices\n",
      "Warning : Gmsh must be compiled with ANN support for finding closest vertices\n",
      "Warning : Gmsh must be compiled with ANN support for finding closest vertices\n",
      "Warning : Gmsh must be compiled with ANN support for finding closest vertices\n",
      "Warning : Gmsh must be compiled with ANN support for finding closest vertices\n",
      "Warning : Gmsh must be compiled with ANN support for finding closest vertices\n",
      "Warning : Gmsh must be compiled with ANN support for finding closest vertices\n",
      "Warning : Gmsh must be compiled with ANN support for finding closest vertices\n",
      "Warning : Gmsh must be compiled with ANN support for finding closest vertices\n",
      "Warning : Gmsh must be compiled with ANN support for finding closest vertices\n",
      "Warning : Gmsh must be compiled with ANN support for finding closest vertices\n",
      "Warning : Gmsh must be compiled with ANN support for finding closest vertices\n"
     ]
    },
    {
     "data": {
      "text/plain": [
       "PhysicalParameters(0.011444781980290685, 1.3304134695650072, 0.12536326530612246 + 3.330816326530612im, 0.12536326530612246 + 3.330816326530612im, 1.0, 1.0e-10, 300.0, (Inf, 903.1323390677645), (Inf, 100.0), 200.0)"
      ]
     },
     "execution_count": 17,
     "metadata": {},
     "output_type": "execute_result"
    }
   ],
   "source": [
    "hr = (λ1+λ2)/nf/4          # Height of Raman molecule\n",
    "# Geometry parameters of the mesh\n",
    "L = 150           # Length of the normal region\n",
    "hair = 500 + hr       # Height of the air region\n",
    "hs = 300 + hr         # Height of the source location in air\n",
    "ht = 200 + hr         # Height of the target location in air\n",
    "hd = 200          # Height of design domain\n",
    "hsub = 100        # Height of substrate domain below design domain\n",
    "dpml = 300        # Thickness of the PML\n",
    "hrd = (hd, hr)\n",
    "# Characteristic length (controls the resolution, smaller the finer)\n",
    "resol = 20        # Number of points per wavelength\n",
    "l1 = L/resol      # Air\n",
    "l2 = l1/10.0       # Design domain\n",
    "l3 = l1           # PML\n",
    "\n",
    "meshfile = \"geometry.msh\"\n",
    "geo_param = PeriodicGeometry(L, hair, hs, ht, hd, hsub, dpml, l1, l2, l3)\n",
    "MeshGenerator(geo_param, meshfile)\n",
    "\n",
    "LHp=(Inf, hair + hd)  # Start of PML for x,y > 0\n",
    "LHn=(Inf, hsub)       # Start of PML for x,y < 0\n",
    "\n",
    "\n",
    "ω1 = 2 * π / λ1\n",
    "phys1 = PhysicalParameters(ω1, nf, nm1, nm1, μ, R, dpml, LHp, LHn, hd)\n",
    "ω2 = 2 * π / λ2\n",
    "phys2 = PhysicalParameters(ω2, nf, nm2, nm2, μ, R, dpml, LHp, LHn, hd)\n",
    "# run(`scp wyao@txe1-login.mit.edu:/home/gridsan/wyao/Research/RamanInFluid/cloud/task1/geometry.msh /Users/jayyao/Documents/Research/RamanInFluid/`)"
   ]
  },
  {
   "cell_type": "code",
   "execution_count": 18,
   "metadata": {},
   "outputs": [
    {
     "name": "stdout",
     "output_type": "stream",
     "text": [
      "Info    : Reading 'geometry.msh'...\n",
      "Info    : 45 entities\n",
      "Info    : 81549 nodes\n",
      "Info    : 162422 elements\n",
      "Info    : [ 10%] Reading elements                                          \r",
      "Info    : [ 20%] Reading elements                                          \r",
      "Info    : [ 30%] Reading elements                                          \r",
      "Info    : [ 40%] Reading elements                                          \r",
      "Info    : [ 50%] Reading elements                                          \r",
      "Info    : [ 50%] Reading elements                                          \r",
      "Info    : [ 60%] Reading elements                                          \r",
      "Info    : [ 70%] Reading elements                                          \r",
      "Info    : [ 80%] Reading elements                                          \r",
      "Info    : [ 90%] Reading elements                                          \r",
      "Info    : [100%] Reading elements                                          \r",
      "                                          \r",
      "Info    : Done reading 'geometry.msh'\n"
     ]
    },
    {
     "data": {
      "text/plain": [
       "GridapParameters(UnconstrainedFESpace(), UnconstrainedFESpace(), UnconstrainedFESpace(), UnconstrainedFESpace(), UnconstrainedFESpace(), UnconstrainedFESpace(), 123490, BodyFittedTriangulation(), Measure(), Measure(), Measure(), Measure(), Measure(), Measure(), GenericCellField(), Int8[8, 8, 8, 8, 8, 8, 8, 8, 8, 8  …  10, 10, 10, 10, 10, 10, 10, 10, 10, 10], 7)"
      ]
     },
     "execution_count": 18,
     "metadata": {},
     "output_type": "execute_result"
    }
   ],
   "source": [
    "############  Optimization parameters #############\n",
    "flag_f = true       # Turn on filter\n",
    "flag_t = true       # Turn on threshold\n",
    "\n",
    "# Filter and threshold paramters\n",
    "r = (0.02 * L, 0.02 * L)  # Filter radius\n",
    "β = 80.0                  # β∈[1,∞], threshold sharpness\n",
    "η = 0.5                   # η∈[0,1], threshold center\n",
    "\n",
    "α = 1.0 / (2 * 1000.0)    # Equivalent loss α = 1/2Q\n",
    "\n",
    "# Number of subspace\n",
    "K = 20\n",
    "\n",
    "# Amplify g for NLopt\n",
    "Amp = 1\n",
    "\n",
    "# Sum over kx\n",
    "nkx = 30\n",
    "nparts = nkx / 2\n",
    "\n",
    "Bp = true          # Matrix B depend on parameters?\n",
    "pv = 1\n",
    "\n",
    "# Foundary constraint parameters\n",
    "c = 0#resol^4\n",
    "lw = r[1]\n",
    "ls = r[1]\n",
    "ηe = fηe(lw / r[1])\n",
    "ηd = fηd(lw / r[1])\n",
    "\n",
    "control = ControllingParameters(flag_f, flag_t, r, β, η, α, nparts, nkx, K, Amp, Bp, pv, c, ηe, ηd, hrd)\n",
    "\n",
    "gridap = GridapFE(meshfile, 1, 2, [\"DirichletEdges\", \"DirichletNodes\"], [\"DesignNodes\", \"DesignEdges\"], [\"Target\"], [\"Source\"], flag_f, true)\n"
   ]
  },
  {
   "cell_type": "code",
   "execution_count": 36,
   "metadata": {},
   "outputs": [
    {
     "name": "stdout",
     "output_type": "stream",
     "text": [
      "g0_p(p_init, []; kb, phys1, phys2, control, gridap) = 3.304940991544588e7\n"
     ]
    },
    {
     "data": {
      "image/png": "[encoded data removed]",
      "text/plain": [
       "Figure()"
      ]
     },
     "execution_count": 36,
     "metadata": {},
     "output_type": "execute_result"
    }
   ],
   "source": [
    "function p_bowtie(x, d, h, L, hd)\n",
    "    dx = abs(x[1]) - d / 2 \n",
    "    dy = abs(x[2] - hd / 2)\n",
    "    bowtie = 0\n",
    "    if dx >= 0 && dy <= h / (L - d) * dx\n",
    "        bowtie = 1\n",
    "    end\n",
    "    return bowtie\n",
    "end\n",
    "\n",
    "function p_triangle(x, h, L)\n",
    "    dx = abs(x[1])\n",
    "    dy = x[2]\n",
    "    if dy <= (1-2*dx/L)*h\n",
    "        return 1\n",
    "    else\n",
    "        return 0\n",
    "    end\n",
    "end\n",
    "\n",
    "function p_circle(x, radius)\n",
    "    if (x[1]^2+(x[2]-radius)^2)<=radius^2\n",
    "        return 1\n",
    "    else\n",
    "        return 0\n",
    "    end\n",
    "end\n",
    "\n",
    "kb = 0\n",
    "p_trunc(x, ratio) = x[2] < (ratio * hd) ? 1 : 0\n",
    "# binitialfunc(v) = ∫(v * x->p_trunc(x, 0.5))gridap.dΩ\n",
    "# binitialfunc(v) = ∫(v * x->p_bowtie(x, 20, 80, L, hd))gridap.dΩ\n",
    "# binitialfunc(v) = ∫(v * x->p_triangle(x, 200, L))gridap.dΩ\n",
    "binitialfunc(v) = ∫(v * x->p_circle(x, 41))gridap.dΩ\n",
    "pc_vec = assemble_vector(binitialfunc, gridap.FE_P)\n",
    "p_init = p_extract(pc_vec; gridap)\n",
    "p_init[p_init .< 0.1] .= 0\n",
    "p_init[p_init .> 0.1] .= 1\n",
    "\n",
    "\n",
    "pf_vec = pf_p0(p_init; control, gridap)\n",
    "pfh = FEFunction(gridap.FE_Pf, pf_vec)\n",
    "pth = (pf -> Threshold(pf; control)) ∘ pfh\n",
    "fig, ax, plt = plot(gridap.Ω, pth, colormap = :binary)\n",
    "Colorbar(fig[1,2], plt)\n",
    "ax.aspect = AxisAspect(L/(hd))\n",
    "ax.title = \"Design Shape\"\n",
    "limits!(ax, -L/2, L/2, 0, hd)\n",
    "@show g0_p(p_init, []; kb, phys1, phys2, control, gridap)\n",
    "fig"
   ]
  },
  {
   "cell_type": "code",
   "execution_count": 35,
   "metadata": {},
   "outputs": [
    {
     "data": {
      "text/plain": [
       "(3.5857529240217594, 566.1455341366382)"
      ]
     },
     "execution_count": 35,
     "metadata": {},
     "output_type": "execute_result"
    }
   ],
   "source": [
    "g_max = 1.1850701824150379e8\n",
    "g_max/3.304940991544588e7, g_max/209322.53474758018"
   ]
  },
  {
   "cell_type": "code",
   "execution_count": 38,
   "metadata": {},
   "outputs": [
    {
     "name": "stdout",
     "output_type": "stream",
     "text": [
      "numevals = opt.numevals = 200\n",
      "numevals = opt.numevals = 200\n",
      "numevals = opt.numevals = 200\n",
      "numevals = opt.numevals = 200\n",
      "numevals = opt.numevals = 200\n",
      "numevals = opt.numevals = 200\n",
      "numevals = opt.numevals = 200\n",
      "numevals = opt.numevals = 200\n",
      "numevals = opt.numevals = 200\n",
      "numevals = opt.numevals = 200\n",
      "g_opt = 1.8348437802536324e8\n"
     ]
    },
    {
     "data": {
      "text/plain": [
       "1.8348437802536324e8"
      ]
     },
     "execution_count": 38,
     "metadata": {},
     "output_type": "execute_result"
    }
   ],
   "source": [
    "# p_init = ones(gridap.np) * 0.7 + rand(gridap.np) * 1e-2\n",
    "β_list = [5.0, 10.0, 20.0, 30.0, 40.0, 60.0, 80.0, 80.0, 80.0, 80.0]\n",
    "Q_list = [10.0, 20.0, 40.0, 80.0, 100.0, 500.0, 1000.0, 1000.0, 1000.0, 1000.0]\n",
    "\n",
    "g_opt = 0\n",
    "for bi = 1 : 10\n",
    "    β = β_list[bi]\n",
    "    α = 1/(2*Q_list[bi])\n",
    "    control = ControllingParameters(flag_f, flag_t, r, β, η, α, nparts, nkx, K, Amp, Bp, pv, c, ηe, ηd, hrd)\n",
    "\n",
    "    if bi == 1\n",
    "        g_opt, p_opt = g0_p_optimize(p_init, 1e-12, 200; phys1, phys2, control, gridap)\n",
    "    \n",
    "    else\n",
    "        g_opt, p_opt = g0_p_optimize([], 1e-12, 200; phys1, phys2, control, gridap)\n",
    "    end\n",
    "    if isfile(\"p_opt.value.txt\")\n",
    "        run(`rm p_opt_value.txt`)\n",
    "    end\n",
    "    open(\"p_opt_value.txt\", \"w\") do iop\n",
    "        for i = 1 : length(p_opt)\n",
    "            p_temp = p_opt[i]\n",
    "            write(iop, \"$p_temp \\n\")\n",
    "        end\n",
    "    end\n",
    "    open(\"g_opt_value.txt\", \"a\") do io\n",
    "        write(io, \"$g_opt \\n\")\n",
    "    end\n",
    "end\n",
    "@show g_opt"
   ]
  },
  {
   "cell_type": "code",
   "execution_count": 42,
   "metadata": {},
   "outputs": [
    {
     "data": {
      "image/png": "[encoded data removed]",
      "text/plain": [
       "Figure()"
      ]
     },
     "execution_count": 42,
     "metadata": {},
     "output_type": "execute_result"
    }
   ],
   "source": [
    "# Output and view\n",
    "ImportFromFile = true\n",
    "N = num_free_dofs(gridap.FE_U)\n",
    "if ImportFromFile\n",
    "    #p_max = readdlm(\"cloud/task5/p_opt_value.txt\", Float64)\n",
    "    p_max = readdlm(\"p_opt_value.txt\", Float64)\n",
    "    p0 = p_max[:]\n",
    "else\n",
    "    p0 = zeros(gridap.np)\n",
    "end\n",
    "\n",
    "kb = 0\n",
    "pf_vec = pf_p0(p0; control, gridap)\n",
    "pfh = FEFunction(gridap.FE_Pf, pf_vec)\n",
    "pth = (pf -> Threshold(pf; control)) ∘ pfh\n",
    "A1_mat = MatrixA(pth, kb; phys=phys1, control, gridap)\n",
    "b1_vec = assemble_vector(v->(∫(v)gridap.dΓ_s), gridap.FE_V)\n",
    "u1_vec = A1_mat \\ b1_vec\n",
    "u1h = FEFunction(gridap.FE_U, u1_vec)\n",
    "\n",
    "A2_mat = MatrixA(pth, kb; phys=phys2, control, gridap)\n",
    "o_vec = VectorO(1, 1; gridap)\n",
    "v2_vec = A2_mat' \\ o_vec\n",
    "v2h = FEFunction(gridap.FE_U, v2_vec)\n",
    "\n",
    "fig, ax, plt = plot(gridap.Ω, pth, colormap = :binary)\n",
    "Colorbar(fig[1,2], plt)\n",
    "ax.aspect = AxisAspect(L/(hd))\n",
    "ax.title = \"Design Shape\"\n",
    "limits!(ax, -L/2, L/2, 0, hd)\n",
    "save(\"Results/shape.png\", fig)\n",
    "fig"
   ]
  },
  {
   "cell_type": "code",
   "execution_count": 43,
   "metadata": {},
   "outputs": [
    {
     "data": {
      "image/png": "[encoded data removed]",
      "text/plain": [
       "Figure()"
      ]
     },
     "execution_count": 43,
     "metadata": {},
     "output_type": "execute_result"
    }
   ],
   "source": [
    "maxv = maximum(abs.(u1_vec))/1\n",
    "#fig, ax, plt = plot(gridap.Ω, real(u1h), colormap = :bwr, colorrange=(-maxv, maxv))\n",
    "fig, ax, plt = plot(gridap.Ω, abs2(u1h), colormap = :hot, colorrange=(0, maxv^2/2))\n",
    "Colorbar(fig[1,2], plt)\n",
    "ax.title = \"|Hz|^2\"\n",
    "#ax.aspect = AxisAspect(L/(phys1.LHp[2]+phys1.LHn[2]))\n",
    "#limits!(ax, -L/2, L/2, -phys1.LHn[2], phys1.LHp[2])\n",
    "ax.aspect = AxisAspect(L/(hd+hr*0))\n",
    "limits!(ax, -L/2, L/2, 0, hd+hr*0)\n",
    "save(\"Results/Field_nearcircle.png\", fig)\n",
    "fig"
   ]
  },
  {
   "cell_type": "code",
   "execution_count": null,
   "metadata": {},
   "outputs": [],
   "source": [
    "gvalues = readdlm(\"gvalue.txt\", Float64)\n",
    "gavlues = gvalues[:]\n",
    "GLMakie.lines(range(1, length=length(gvalues)), gvalues[:])\n",
    "# grad = zeros(gridap.np)\n",
    "# g0_p(p0, grad; kb, phys1, phys2, control, gridap)\n"
   ]
  },
  {
   "cell_type": "code",
   "execution_count": 5,
   "metadata": {},
   "outputs": [
    {
     "data": {
      "text/plain": [
       "(0.019858781568473205, 0.019858775696992653)"
      ]
     },
     "execution_count": 5,
     "metadata": {},
     "output_type": "execute_result"
    }
   ],
   "source": [
    "p0 = rand(gridap.np)\n",
    "δp = rand(gridap.np)*1e-8\n",
    "grad = zeros(gridap.np)\n",
    "\n",
    "kb = 1.0 * ω1\n",
    "g0 = g0_p(p0, grad; kb, phys1, phys2, control, gridap)\n",
    "g1 = g0_p(p0+δp, []; kb, phys1, phys2, control, gridap)\n",
    "g1-g0, grad'*δp\n",
    "#1.609129978462141e8"
   ]
  },
  {
   "cell_type": "code",
   "execution_count": 26,
   "metadata": {},
   "outputs": [
    {
     "name": "stdout",
     "output_type": "stream",
     "text": [
      "gtemp = g0_p(p_init, []; kb = 0, phys1, phys2, control, gridap) = 209322.53474758018\n",
      "gtemp = g0_p(p_init, []; kb = 0, phys1, phys2, control, gridap) = 209322.53474757576\n",
      "gtemp = g0_p(p_init, []; kb = 0, phys1, phys2, control, gridap) = 209319.0744639887\n",
      "gtemp = g0_p(p_init, []; kb = 0, phys1, phys2, control, gridap) = 209455.7785236441\n",
      "gtemp = g0_p(p_init, []; kb = 0, phys1, phys2, control, gridap) = 211404.5804403231\n",
      "gtemp = g0_p(p_init, []; kb = 0, phys1, phys2, control, gridap) = 218998.94312944973\n",
      "gtemp = g0_p(p_init, []; kb = 0, phys1, phys2, control, gridap) = 232028.66781717888\n",
      "gtemp = g0_p(p_init, []; kb = 0, phys1, phys2, control, gridap) = 230734.8846368171\n",
      "gtemp = g0_p(p_init, []; kb = 0, phys1, phys2, control, gridap) = 251662.63462774205\n",
      "gtemp = g0_p(p_init, []; kb = 0, phys1, phys2, control, gridap) = 263105.7023270751\n",
      "gtemp = g0_p(p_init, []; kb = 0, phys1, phys2, control, gridap) = 348771.96641801274\n",
      "gtemp = g0_p(p_init, []; kb = 0, phys1, phys2, control, gridap) = 388384.1842904816\n",
      "gtemp = g0_p(p_init, []; kb = 0, phys1, phys2, control, gridap) = 455933.1108717473\n",
      "gtemp = g0_p(p_init, []; kb = 0, phys1, phys2, control, gridap) = 610249.6091661411\n",
      "gtemp = g0_p(p_init, []; kb = 0, phys1, phys2, control, gridap) = 761828.8117149452\n",
      "gtemp = g0_p(p_init, []; kb = 0, phys1, phys2, control, gridap) = 1.7109165381231257e6\n",
      "gtemp = g0_p(p_init, []; kb = 0, phys1, phys2, control, gridap) = 2.1156025936962394e6\n",
      "gtemp = g0_p(p_init, []; kb = 0, phys1, phys2, control, gridap) = 2.5432045921460977e6\n",
      "gtemp = g0_p(p_init, []; kb = 0, phys1, phys2, control, gridap) = 5.85520579878756e6\n",
      "gtemp = g0_p(p_init, []; kb = 0, phys1, phys2, control, gridap) = 6.854214566821706e6\n",
      "gtemp = g0_p(p_init, []; kb = 0, phys1, phys2, control, gridap) = 9.589506101996398e6\n",
      "gtemp = g0_p(p_init, []; kb = 0, phys1, phys2, control, gridap) = 1.431452364266874e7\n",
      "gtemp = g0_p(p_init, []; kb = 0, phys1, phys2, control, gridap) = 1.699024324727051e7\n",
      "gtemp = g0_p(p_init, []; kb = 0, phys1, phys2, control, gridap) = 2.1026178863112353e7\n",
      "gtemp = g0_p(p_init, []; kb = 0, phys1, phys2, control, gridap) = 2.9496245540355805e7\n",
      "gtemp = g0_p(p_init, []; kb = 0, phys1, phys2, control, gridap) = 2.2553182400400132e7\n",
      "gtemp = g0_p(p_init, []; kb = 0, phys1, phys2, control, gridap) = 2.5472089079058725e7\n",
      "gtemp = g0_p(p_init, []; kb = 0, phys1, phys2, control, gridap) = 2.6191238194867823e7\n",
      "gtemp = g0_p(p_init, []; kb = 0, phys1, phys2, control, gridap) = 2.8039073123663098e7\n",
      "gtemp = g0_p(p_init, []; kb = 0, phys1, phys2, control, gridap) = 2.495074534432501e7\n",
      "gtemp = g0_p(p_init, []; kb = 0, phys1, phys2, control, gridap) = 2.8731618811177243e7\n",
      "gtemp = g0_p(p_init, []; kb = 0, phys1, phys2, control, gridap) = 2.553257446952892e7\n",
      "gtemp = g0_p(p_init, []; kb = 0, phys1, phys2, control, gridap) = 3.1491781394006386e7\n",
      "gtemp = g0_p(p_init, []; kb = 0, phys1, phys2, control, gridap) = 3.1915691150717854e7\n",
      "gtemp = g0_p(p_init, []; kb = 0, phys1, phys2, control, gridap) = 2.577093790526171e7\n",
      "gtemp = g0_p(p_init, []; kb = 0, phys1, phys2, control, gridap) = 2.6591698540645193e7\n",
      "gtemp = g0_p(p_init, []; kb = 0, phys1, phys2, control, gridap) = 3.1300901004803456e7\n",
      "gtemp = g0_p(p_init, []; kb = 0, phys1, phys2, control, gridap) = 2.72529442529583e7\n",
      "gtemp = g0_p(p_init, []; kb = 0, phys1, phys2, control, gridap) = 2.246527723145751e7\n",
      "gtemp = g0_p(p_init, []; kb = 0, phys1, phys2, control, gridap) = 2.8602790747372467e7\n",
      "gtemp = g0_p(p_init, []; kb = 0, phys1, phys2, control, gridap) = 3.304940991544588e7\n",
      "gtemp = g0_p(p_init, []; kb = 0, phys1, phys2, control, gridap) = 2.9420012888638444e7\n",
      "gtemp = g0_p(p_init, []; kb = 0, phys1, phys2, control, gridap) = 1.9802907188014116e7\n",
      "gtemp = g0_p(p_init, []; kb = 0, phys1, phys2, control, gridap) = 2.521020194547732e7\n",
      "gtemp = g0_p(p_init, []; kb = 0, phys1, phys2, control, gridap) = 2.851566253367473e7\n",
      "gtemp = g0_p(p_init, []; kb = 0, phys1, phys2, control, gridap) = 2.2767686421731375e7\n",
      "gtemp = g0_p(p_init, []; kb = 0, phys1, phys2, control, gridap) = 1.8779792601147342e7\n",
      "gtemp = g0_p(p_init, []; kb = 0, phys1, phys2, control, gridap) = 1.5730255608037569e7\n",
      "gtemp = g0_p(p_init, []; kb = 0, phys1, phys2, control, gridap) = 1.831865095920603e7\n",
      "gtemp = g0_p(p_init, []; kb = 0, phys1, phys2, control, gridap) = 1.8433990129502382e7\n",
      "gtemp = g0_p(p_init, []; kb = 0, phys1, phys2, control, gridap) = 1.5547659337467402e7\n",
      "gtemp = g0_p(p_init, []; kb = 0, phys1, phys2, control, gridap) = 1.070411359623111e7\n",
      "gtemp = g0_p(p_init, []; kb = 0, phys1, phys2, control, gridap) = 1.077291843973551e7\n",
      "gtemp = g0_p(p_init, []; kb = 0, phys1, phys2, control, gridap) = 9.618581758977506e6\n",
      "gtemp = g0_p(p_init, []; kb = 0, phys1, phys2, control, gridap) = 8.501388683425082e6\n",
      "gtemp = g0_p(p_init, []; kb = 0, phys1, phys2, control, gridap) = 7.296586516816479e6\n",
      "gtemp = g0_p(p_init, []; kb = 0, phys1, phys2, control, gridap) = 5.665152165103499e6\n",
      "gtemp = g0_p(p_init, []; kb = 0, phys1, phys2, control, gridap) = 4.753706641536575e6\n",
      "gtemp = g0_p(p_init, []; kb = 0, phys1, phys2, control, gridap) = 4.799099511099938e6\n",
      "gtemp = g0_p(p_init, []; kb = 0, phys1, phys2, control, gridap) = 3.895003469989475e6\n",
      "gtemp = g0_p(p_init, []; kb = 0, phys1, phys2, control, gridap) = 3.0855074172341907e6\n",
      "gtemp = g0_p(p_init, []; kb = 0, phys1, phys2, control, gridap) = 2.80627051046926e6\n",
      "gtemp = g0_p(p_init, []; kb = 0, phys1, phys2, control, gridap) = 2.342209480855493e6\n",
      "gtemp = g0_p(p_init, []; kb = 0, phys1, phys2, control, gridap) = 2.4931981812166465e6\n",
      "gtemp = g0_p(p_init, []; kb = 0, phys1, phys2, control, gridap) = 2.2096020237717526e6\n",
      "gtemp = g0_p(p_init, []; kb = 0, phys1, phys2, control, gridap) = 1.9827687218280623e6\n",
      "gtemp = g0_p(p_init, []; kb = 0, phys1, phys2, control, gridap) = 1.8400715191230678e6\n",
      "gtemp = g0_p(p_init, []; kb = 0, phys1, phys2, control, gridap) = 2.0143968046054326e6\n",
      "gtemp = g0_p(p_init, []; kb = 0, phys1, phys2, control, gridap) = 2.297052740226432e6\n",
      "gtemp = g0_p(p_init, []; kb = 0, phys1, phys2, control, gridap) = 2.8563057622919413e6\n",
      "gtemp = g0_p(p_init, []; kb = 0, phys1, phys2, control, gridap) = 3.937663406713636e6\n",
      "gtemp = g0_p(p_init, []; kb = 0, phys1, phys2, control, gridap) = 5.84810373149242e6\n",
      "gtemp = g0_p(p_init, []; kb = 0, phys1, phys2, control, gridap) = 4.617056468113198e6\n",
      "gtemp = g0_p(p_init, []; kb = 0, phys1, phys2, control, gridap) = 5.965702060397045e6\n",
      "gtemp = g0_p(p_init, []; kb = 0, phys1, phys2, control, gridap) = 9.603699275888458e6\n"
     ]
    },
    {
     "data": {
      "text/plain": [
       "(3.304940991544588e7, 41)"
      ]
     },
     "execution_count": 26,
     "metadata": {},
     "output_type": "execute_result"
    }
   ],
   "source": [
    "gmax = 0\n",
    "rmax = 0\n",
    "for radius = 1:75\n",
    "    binitialfunc(v) = ∫(v * x->p_circle(x, radius))gridap.dΩ\n",
    "    pc_vec = assemble_vector(binitialfunc, gridap.FE_P)\n",
    "    p_init = p_extract(pc_vec; gridap)\n",
    "    p_init[p_init .< 0.1] .= 0\n",
    "    p_init[p_init .> 0.1] .= 1\n",
    "    @show gtemp = g0_p(p_init, []; kb=0, phys1, phys2, control, gridap)\n",
    "    if gtemp > gmax\n",
    "        gmax = gtemp\n",
    "        rmax = radius\n",
    "    end\n",
    "end\n",
    "gmax, rmax"
   ]
  },
  {
   "cell_type": "code",
   "execution_count": null,
   "metadata": {},
   "outputs": [],
   "source": [
    "gmax = 0\n",
    "dmax = 0\n",
    "hmax = 0\n",
    "for d = 10:10:150\n",
    "    for h = 10:10:200\n",
    "        bowtie_temp(v) = ∫(v * x->p_bowtie(x, d, h, L, hd))gridap.dΩ\n",
    "        pc_vec = assemble_vector(bowtie_temp, gridap.FE_P)\n",
    "        p0 = p_extract(pc_vec; gridap)\n",
    "        @show gtemp = g0_p(p0, []; kb=0, phys1, phys2, control, gridap)\n",
    "        if gtemp > gmax\n",
    "            gmax = gtemp\n",
    "            dmax = d\n",
    "            hmax = h\n",
    "        end\n",
    "    end\n",
    "end\n",
    "gmax, dmax, hmax"
   ]
  },
  {
   "cell_type": "code",
   "execution_count": null,
   "metadata": {},
   "outputs": [],
   "source": [
    "function g_hr(hr)\n",
    "    # Geometry parameters of the mesh\n",
    "    L = 150           # Length of the normal region\n",
    "    hair = 500 + hr       # Height of the air region\n",
    "    hs = 300 + hr         # Height of the source location in air\n",
    "    ht = 200 + hr         # Height of the target location in air\n",
    "    hd = 200          # Height of design domain\n",
    "    hsub = 100        # Height of substrate domain below design domain\n",
    "    dpml = 300        # Thickness of the PML\n",
    "    hrd = [hd, hr]\n",
    "    # Characteristic length (controls the resolution, smaller the finer)\n",
    "    resol = 30        # Number of points per wavelength\n",
    "    l1 = L/resol      # Air\n",
    "    l2 = l1/10.0       # Design domain\n",
    "    l3 = l1           # PML\n",
    "\n",
    "    meshfile = \"geometry.msh\"\n",
    "    geo_param = PeriodicGeometry(L, hair, hs, ht, hd, hsub, dpml, l1, l2, l3)\n",
    "    MeshGenerator(geo_param, meshfile)\n",
    "\n",
    "    ############  Optimization parameters #############\n",
    "    flag_f = true       # Turn on filter\n",
    "    flag_t = true       # Turn on threshold\n",
    "\n",
    "    # Filter and threshold paramters\n",
    "    r = [0.02 * L, 0.02 * L]  # Filter radius\n",
    "    β = 80.0                  # β∈[1,∞], threshold sharpness\n",
    "    η = 0.5                   # η∈[0,1], threshold center\n",
    "\n",
    "    α = 0.0 / (2 * 1000.0)    # Equivalent loss α = 1/2Q\n",
    "\n",
    "    # Number of subspace\n",
    "    K = 20\n",
    "\n",
    "    # Amplify g for NLopt\n",
    "    Amp = 1\n",
    "\n",
    "    # Sum over kx\n",
    "    nkx = 30\n",
    "    nparts = nkx / 2\n",
    "\n",
    "    Bp = true          # Matrix B depend on parameters?\n",
    "    pv = 1\n",
    "    kb = 0\n",
    "    \n",
    "    # Foundary constraint parameters\n",
    "    c = 0#resol^4\n",
    "    lw = r[1]\n",
    "    ls = r[1]\n",
    "    ηe = fηe(lw / r[1])\n",
    "    ηd = fηd(lw / r[1])\n",
    "\n",
    "    control = ControllingParameters(flag_f, flag_t, r, β, η, α, nparts, nkx, K, Amp, Bp, pv, c, ηe, ηd, hrd)\n",
    "\n",
    "    gridap = GridapFE(meshfile, 1, 2, [\"DirichletEdges\", \"DirichletNodes\"], [\"DesignNodes\", \"DesignEdges\"], [\"Target\"], [\"Source\"], flag_f, true)\n",
    "    \n",
    "    material = \"Silver\"\n",
    "    n_λ, k_λ = RefractiveIndex(material,main_path)\n",
    "    λ1 = 549\n",
    "    λ2 = 549\n",
    "    nm1 = n_λ(λ1) + 1im * k_λ(λ1)\n",
    "    nm2 = n_λ(λ2) + 1im * k_λ(λ2)\n",
    "    nm1 = imag(nm1)\n",
    "    nm2 = imag(nm2)\n",
    "    nf = sqrt(1.77)\n",
    "    μ = 1\n",
    "    R = 1e-10\n",
    "    LHp=[Inf, hair + hd]  # Start of PML for x,y > 0\n",
    "    LHn=[Inf, hsub]       # Start of PML for x,y < 0\n",
    "\n",
    "\n",
    "    ω1 = 2 * π / λ1\n",
    "    phys1 = PhysicalParameters(ω1, nf, nm1, nm1, μ, R, dpml, LHp, LHn, hd)\n",
    "    ω2 = 2 * π / λ2\n",
    "    phys2 = PhysicalParameters(ω2, nf, nm2, nm2, μ, R, dpml, LHp, LHn, hd)\n",
    "\n",
    "    d = 20\n",
    "    h = 80\n",
    "    bowtie_temp(v) = ∫(v * x->p_bowtie(x, d, h, L, hd))gridap.dΩ\n",
    "    pc_vec = assemble_vector(bowtie_temp, gridap.FE_P)\n",
    "    pbowtie = p_extract(pc_vec; gridap)\n",
    "    p_init = pbowtie#rand(gridap.np)\n",
    "\n",
    "    pf_vec = pf_p0(p_init; control, gridap)\n",
    "    pfh = FEFunction(gridap.FE_Pf, pf_vec)\n",
    "    pth = (pf -> Threshold(pf; control)) ∘ pfh\n",
    "    A1_mat = MatrixA(pth, kb; phys=phys1, control, gridap)\n",
    "    b1_vec = assemble_vector(v->(∫(v)gridap.dΓ_s), gridap.FE_V)\n",
    "    u1_vec = A1_mat\\b1_vec\n",
    "    u1h = FEFunction(gridap.FE_U, u1_vec)\n",
    "#     O_mat = MatrixOl(phys1.ω, phys1.nf^2; gridap)\n",
    "#     o_vec = VectorO(1, 1; gridap)\n",
    "    \n",
    "#     planewave(v) = ∫(v * x->exp(1im*phys1.ω*nf^2*x[2]))gridap.dΩ\n",
    "#     b_plane = assemble_vector(planewave, gridap.FE_U)\n",
    "\n",
    "#     AE_mat = assemble_matrix(gridap.FE_U, gridap.FE_V) do u, v\n",
    "#             ∫(u*v)gridap.dΩ \n",
    "#     end\n",
    "#    uh_plane = FEFunction(gridap.FE_U, AE_mat\\b_plane)\n",
    "    \n",
    "    B_mat = MatrixB(pth, u1h; control, gridap)\n",
    "    B0_mat = MatrixB0(pth, λ2/nf/2, u1h; control, gridap)\n",
    "    #B1_mat = MatrixB0(pth, 1.5*λ2/nf, u1h; control, gridap)\n",
    "    \n",
    "    A2_mat = MatrixA(pth, kb; phys=phys2, control, gridap)\n",
    "    o_vec = VectorO(1, 1; gridap)\n",
    "    v2_vec = A2_mat'\\o_vec\n",
    "    gp = real(v2_vec' * B_mat * v2_vec)\n",
    "    g0 = real(v2_vec' * B0_mat * v2_vec)\n",
    "    # g1 = real(v2_vec' * B1_mat * v2_vec)\n",
    "    return gp, g0\n",
    "    # return sum(∫(abs(u1h))gridap.dΓ_t), real(u1_vec'*O_mat*u1_vec)\n",
    "end"
   ]
  },
  {
   "cell_type": "code",
   "execution_count": null,
   "metadata": {},
   "outputs": [],
   "source": [
    "Ng = 40\n",
    "g_list = zeros(Ng)\n",
    "g0_list = zeros(Ng)\n",
    "g1_list = zeros(Ng)\n",
    "h_list = zeros(Ng)\n",
    "\n",
    "for hi = 1:Ng\n",
    "    print(hi,\"\\n\")\n",
    "    λ2 = 549/sqrt(1.77)\n",
    "    hr = (hi+0) * λ2 / 2\n",
    "    h_list[hi] = hr/λ2\n",
    "    gp, g0= g_hr(hr)\n",
    "    # gp, g0, g1= g_hr(hr)\n",
    "    g_list[hi] = gp\n",
    "    g0_list[hi] = g0\n",
    "    # g1_list[hi] = g1\n",
    "    # g_list[hi] = g_hr_fixmesh(pth, hr; phys1, phys2, control, gridap)\n",
    "end"
   ]
  },
  {
   "cell_type": "code",
   "execution_count": null,
   "metadata": {},
   "outputs": [],
   "source": [
    "scene, layout = layoutscene(resolution=(1400,900))\n",
    "ax = layout[1,1]=Axis(scene)\n",
    "ms = 10\n",
    "# lin1 = GLMakie.scatter!(ax,h_list,g_list)\n",
    "# #lin2 = lines!(ax,h_list,g0_list)\n",
    "# lin2 = GLMakie.scatter!(ax,h_list,range(1,length(h_list),step=1).*g0_list)\n",
    "lin3 = GLMakie.scatter!(ax,h_list,g_list-range(1,length(h_list),step=1).*g0_list)\n",
    "\n",
    "#lin2 = scatter!(ax,range(1,12,step=1),g_r10,markersize=10)\n",
    "#lin3 = lines!(ax,range(1,12,step=1),gr_r5.+1e-9)\n",
    "#ax.yscale = log10\n",
    "ax.xlabel=\"hr/λ\"\n",
    "ax.ylabel=\"Power\"\n",
    "#ax.title=\"Eigenvalue distribution\"\n",
    "\n",
    "# Legend(layout[1,1],[lin1, lin2],[\"Initial\", \"Optimized\"])\n",
    "# axislegend(ax, [lin1, lin2, lin3],[\"All\",\"Far field\",\"Difference\"], position = :lt,\n",
    "#     orientation = :vertical)\n",
    "# save(\"Results/EigenValDistributionIO.png\",scene)\n",
    "scene"
   ]
  },
  {
   "cell_type": "code",
   "execution_count": null,
   "metadata": {},
   "outputs": [],
   "source": [
    "open(\"Bowtie.txt\", \"w\") do iop\n",
    "    for i = 1 : length(h_list)\n",
    "        h_temp = h_list[i]\n",
    "        g_temp = g_list[i]\n",
    "        write(iop, \"$h_temp $g_temp \\n\")\n",
    "    end\n",
    "end"
   ]
  },
  {
   "cell_type": "code",
   "execution_count": null,
   "metadata": {},
   "outputs": [],
   "source": [
    "gh0 = readdlm(\"FlatSurface.txt\")\n",
    "ghp = readdlm(\"Bowtie.txt\")\n",
    "h0_list = gh0[:,1]\n",
    "g0_list = gh0[:,2]\n",
    "gp_list = ghp[:,2]\n",
    "GLMakie.lines(h0_list, gp_list-g0_list)"
   ]
  },
  {
   "cell_type": "code",
   "execution_count": null,
   "metadata": {},
   "outputs": [],
   "source": []
  }
 ],
 "metadata": {
  "kernelspec": {
   "display_name": "Julia 1.6.0",
   "language": "julia",
   "name": "julia-1.6"
  },
  "language_info": {
   "file_extension": ".jl",
   "mimetype": "application/julia",
   "name": "julia",
   "version": "1.6.2"
  }
 },
 "nbformat": 4,
 "nbformat_minor": 4
}
