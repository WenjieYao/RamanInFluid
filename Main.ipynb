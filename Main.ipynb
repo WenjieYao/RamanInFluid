{
 "cells": [
  {
   "cell_type": "code",
   "execution_count": 1,
   "metadata": {},
   "outputs": [
    {
     "data": {
      "text/plain": [
       "g0_p_optimize (generic function with 3 methods)"
      ]
     },
     "execution_count": 1,
     "metadata": {},
     "output_type": "execute_result"
    }
   ],
   "source": [
    "using Gridap, Gridap.Geometry, Gridap.Fields\n",
    "using Gmsh, GridapGmsh\n",
    "using GLMakie, DelimitedFiles, Interpolations\n",
    "using LinearAlgebra, SparseArrays, KrylovKit\n",
    "using ChainRulesCore, Zygote\n",
    "using PartitionedArrays\n",
    "using NLopt\n",
    "using GridapMakie\n",
    "\n",
    "import Gridap.CellData: Interpolable\n",
    "import ChainRulesCore: rrule\n",
    "import Gmsh: gmsh\n",
    "\n",
    "\n",
    "main_path = \"/Users/jayyao/Documents/Research/RamanInFluid/\"\n",
    "include(main_path*\"Materials/Materials.jl\")\n",
    "include(main_path*\"Module/Mesh_Periodic.jl\")\n",
    "include(main_path*\"Module/Helper.jl\")\n",
    "include(main_path*\"Module/GridapFE.jl\")\n",
    "include(main_path*\"Module/Control.jl\")\n",
    "include(main_path*\"Module/Model.jl\")\n",
    "include(main_path*\"Module/Objective.jl\")"
   ]
  },
  {
   "cell_type": "code",
   "execution_count": 2,
   "metadata": {},
   "outputs": [
    {
     "data": {
      "text/plain": [
       "Process(`\u001b[4mscp\u001b[24m \u001b[4mwyao@txe1-login.mit.edu:/home/gridsan/wyao/Research/RamanInFluid/cloud/task1/geometry.msh\u001b[24m \u001b[4m/Users/jayyao/Documents/Research/RamanInFluid/\u001b[24m`, ProcessExited(0))"
      ]
     },
     "execution_count": 2,
     "metadata": {},
     "output_type": "execute_result"
    }
   ],
   "source": [
    "# Geometry parameters of the mesh\n",
    "L = 150           # Length of the normal region  \n",
    "hair = 500        # Height of the air region\n",
    "hs = 300          # Height of the source location in air\n",
    "ht = 200          # Height of the target location in air\n",
    "hd = 200          # Height of design domain\n",
    "hsub = 100        # Height of substrate domain below design domain\n",
    "dpml = 100        # Thickness of the PML\n",
    "\n",
    "# Characteristic length (controls the resolution, smaller the finer)\n",
    "resol = 25        # Number of points per wavelength\n",
    "l1 = L/resol      # Air\n",
    "l2 = l1/2.0       # Design domain\n",
    "l3 = l1           # PML\n",
    "\n",
    "meshfile = \"geometry.msh\"\n",
    "geo_param = PeriodicGeometry(L, hair, hs, ht, hd, hsub, dpml, l1, l2, l3)\n",
    "# MeshGenerator(geo_param, meshfile)\n",
    "run(`scp wyao@txe1-login.mit.edu:/home/gridsan/wyao/Research/RamanInFluid/cloud/task1/geometry.msh /Users/jayyao/Documents/Research/RamanInFluid/`)"
   ]
  },
  {
   "cell_type": "code",
   "execution_count": 3,
   "metadata": {},
   "outputs": [
    {
     "name": "stdout",
     "output_type": "stream",
     "text": [
      "Info    : Reading 'geometry.msh'...\n",
      "Info    : 45 entities\n",
      "Info    : 79854 nodes\n",
      "Info    : 158906 elements\n",
      "Info    : [ 10%] Reading elements                                          \r",
      "Info    : [ 20%] Reading elements                                          \r",
      "Info    : [ 30%] Reading elements                                          \r",
      "Info    : [ 40%] Reading elements                                          \r",
      "Info    : [ 50%] Reading elements                                          \r",
      "Info    : [ 50%] Reading elements                                          \r",
      "Info    : [ 60%] Reading elements                                          \r",
      "Info    : [ 70%] Reading elements                                          \r",
      "Info    : [ 80%] Reading elements                                          \r",
      "Info    : [ 90%] Reading elements                                          \r",
      "Info    : [100%] Reading elements                                          \r",
      "                                          \r",
      "Info    : Done reading 'geometry.msh'\n"
     ]
    },
    {
     "data": {
      "text/plain": [
       "GridapParameters(UnconstrainedFESpace(), UnconstrainedFESpace(), UnconstrainedFESpace(), UnconstrainedFESpace(), UnconstrainedFESpace(), UnconstrainedFESpace(), 69482, UnstructuredGrid(), Measure(), Measure(), Measure(), Measure(), Measure(), GenericCellField(), Int8[8, 8, 8, 8, 8, 8, 8, 8, 8, 8  …  10, 10, 10, 10, 10, 10, 10, 10, 10, 10], 7)"
      ]
     },
     "execution_count": 3,
     "metadata": {},
     "output_type": "execute_result"
    }
   ],
   "source": [
    "############  Optimization parameters #############\n",
    "flag_f = true       # Turn on filter\n",
    "flag_t = true       # Turn on threshold\n",
    "\n",
    "# Filter and threshold paramters\n",
    "r = [0.02 * L, 0.02 * L]  # Filter radius\n",
    "β = 80.0                  # β∈[1,∞], threshold sharpness\n",
    "η = 0.5                   # η∈[0,1], threshold center\n",
    "\n",
    "α = 0.0 / (2 * 1000.0)    # Equivalent loss α = 1/2Q\n",
    "\n",
    "# Number of subspace\n",
    "K = 20\n",
    "\n",
    "# Amplify g for NLopt\n",
    "Amp = 1\n",
    "\n",
    "# Sum over kx\n",
    "nkx = 30\n",
    "nparts = nkx / 2\n",
    "\n",
    "Bp = true          # Matrix B depend on parameters?\n",
    "pv = 1\n",
    "\n",
    "# Foundary constraint parameters\n",
    "c = 0#resol^4\n",
    "lw = r[1]\n",
    "ls = r[1]\n",
    "ηe = fηe(lw / r[1])\n",
    "ηd = fηd(lw / r[1])\n",
    "\n",
    "control = ControllingParameters(flag_f, flag_t, r, β, η, α, nparts, nkx, K, Amp, Bp, pv, c, ηe, ηd)\n",
    "\n",
    "gridap = GridapFE(meshfile, 1, 2, [\"DirichletEdges\", \"DirichletNodes\"], [\"DesignNodes\", \"DesignEdges\"], [\"Target\"], [\"Source\"], flag_f)\n"
   ]
  },
  {
   "cell_type": "code",
   "execution_count": 6,
   "metadata": {},
   "outputs": [
    {
     "data": {
      "text/plain": [
       "PhysicalParameters(0.011444781980290685, 1.3304134695650072, 0.12536326530612246 + 3.330816326530612im, 0.12536326530612246 + 3.330816326530612im, 1.0, 1.0e-10, 100.0, [Inf, 700.0], [Inf, 100.0], 200.0)"
      ]
     },
     "execution_count": 6,
     "metadata": {},
     "output_type": "execute_result"
    }
   ],
   "source": [
    "\n",
    "material = \"Silver\"\n",
    "n_λ, k_λ = RefractiveIndex(material,main_path)\n",
    "λ1 = 532\n",
    "λ2 = 549\n",
    "nm1 = n_λ(λ1) + 1im * k_λ(λ1)\n",
    "nm2 = n_λ(λ2) + 1im * k_λ(λ2)\n",
    "nf = sqrt(1.77)\n",
    "μ = 1\n",
    "R = 1e-10\n",
    "LHp=[Inf, hair + hd]  # Start of PML for x,y > 0\n",
    "LHn=[Inf, hsub]       # Start of PML for x,y < 0\n",
    "\n",
    "\n",
    "ω1 = 2 * π / λ1\n",
    "phys1 = PhysicalParameters(ω1, nf, nm1, nm1, μ, R, dpml, LHp, LHn, hd)\n",
    "ω2 = 2 * π / λ2\n",
    "phys2 = PhysicalParameters(ω2, nf, nm2, nm2, μ, R, dpml, LHp, LHn, hd)\n",
    "\n",
    "\n",
    "# kb = 0. * ω1\n",
    "# p0 = zeros(gridap.np)\n",
    "# p_vec = p_extend(p0; gridap)\n",
    "# pf_vec = Filter(p_vec; control, gridap)\n",
    "# pf_vec[pf_vec .< 0] .= 0\n",
    "# pf_vec[pf_vec .> 1] .= 1.0\n",
    "# pfh = FEFunction(gridap.FE_Pf, pf_vec)\n",
    "# pth = (pf -> Threshold(pf; control)) ∘ pfh\n",
    "\n",
    "# A1_mat = MatrixA(pth, kb; phys=phys1, control, gridap)\n",
    "\n",
    "# btest(v) = ∫(v)gridap.dΓ_s\n",
    "# b_vec = assemble_vector(btest, gridap.FE_V)\n",
    "\n",
    "# u1_vec = A1_mat\\b_vec\n",
    "# u1h = FEFunction(gridap.FE_U, u1_vec)\n",
    "# A2_mat = MatrixA(pth, kb; phys=phys2, control, gridap)\n",
    "# o_vec = VectorO(1, 1; gridap)\n",
    "# v2_vec = A2_mat' \\ o_vec\n",
    "# v2h = FEFunction(gridap.FE_U, v2_vec)\n",
    "\n",
    "# fig, ax, plt = plot(gridap.Ω, real(u1h), colormap=:bwr)\n",
    "# Colorbar(fig[1,2], plt)\n",
    "# ax.aspect = AxisAspect(L/(phys1.LHn[2]+phys1.LHp[2]))\n",
    "# limits!(ax, -L/2, L/2, -phys1.LHn[2], phys1.LHp[2])\n",
    "# fig"
   ]
  },
  {
   "cell_type": "code",
   "execution_count": 13,
   "metadata": {},
   "outputs": [
    {
     "data": {
      "text/plain": [
       "0.6026430587631512"
      ]
     },
     "execution_count": 13,
     "metadata": {},
     "output_type": "execute_result"
    }
   ],
   "source": [
    "p_init_fun(x) = x[2] < 0.6 * hd ? 1 : 0\n",
    "lc_temp(v) = ∫(v * x->p_init_fun(x))gridap.dΩ\n",
    "pc_vec = assemble_vector(lc_temp, gridap.FE_P)\n",
    "p_init = p_extract(pc_vec; gridap)\n",
    "#p_init[p_init .< 0.5] .= 0\n",
    "p_init[p_init .> 0] .= 1\n",
    "sum(p_init) / gridap.np"
   ]
  },
  {
   "cell_type": "code",
   "execution_count": 34,
   "metadata": {},
   "outputs": [
    {
     "name": "stdout",
     "output_type": "stream",
     "text": [
      "numevals = opt.numevals = 200\n",
      "g_opt = 817970.210915811\n"
     ]
    },
    {
     "data": {
      "text/plain": [
       "817970.210915811"
      ]
     },
     "execution_count": 34,
     "metadata": {},
     "output_type": "execute_result"
    }
   ],
   "source": [
    "p_init = ones(gridap.np) * 0.7\n",
    "β_list = [5.0, 10.0, 20.0, 30.0, 40.0, 60.0, 80.0]\n",
    "# β_list = [80.0, 80.0, 80.0, 80.0, 80.0]\n",
    "\n",
    "g_opt = 0\n",
    "for bi = 7 : 7\n",
    "    β = β_list[bi]\n",
    "    control = ControllingParameters(flag_f, flag_t, r, β, η, α, nparts, nkx, K, Amp, Bp, pv, c, ηe, ηd)\n",
    "\n",
    "    if bi == 1\n",
    "        g_opt, p_opt = g0_p_optimize(p_init, 1e-6, 200; phys1, phys2, control, gridap)\n",
    "    \n",
    "    else\n",
    "        g_opt, p_opt = g0_p_optimize([], 1e-12, 200; phys1, phys2, control, gridap)\n",
    "    end\n",
    "    if isfile(\"p_opt.value.txt\")\n",
    "        run(`rm p_opt_value.txt`)\n",
    "    end\n",
    "    open(\"p_opt_value.txt\", \"w\") do iop\n",
    "        for i = 1 : length(p_opt)\n",
    "            p_temp = p_opt[i]\n",
    "            write(iop, \"$p_temp \\n\")\n",
    "        end\n",
    "    end\n",
    "    open(\"g_opt_value.txt\", \"a\") do io\n",
    "        write(io, \"$g_opt \\n\")\n",
    "    end\n",
    "end\n",
    "@show g_opt"
   ]
  },
  {
   "cell_type": "code",
   "execution_count": 12,
   "metadata": {},
   "outputs": [
    {
     "data": {
      "image/png": "[encoded data removed]",
      "text/plain": [
       "Figure()"
      ]
     },
     "execution_count": 12,
     "metadata": {},
     "output_type": "execute_result"
    }
   ],
   "source": [
    "# Output and view\n",
    "ImportFromFile = true\n",
    "N = num_free_dofs(gridap.FE_U)\n",
    "if ImportFromFile\n",
    "    p_max = readdlm(\"cloud/task5/p_opt_value.txt\", Float64)\n",
    "    p0 = p_max[:]\n",
    "else\n",
    "    p0 = zeros(gridap.np)\n",
    "end\n",
    "\n",
    "kb = 0\n",
    "pf_vec = pf_p0(p0; control, gridap)\n",
    "pfh = FEFunction(gridap.FE_Pf, pf_vec)\n",
    "pth = (pf -> Threshold(pf; control)) ∘ pfh\n",
    "# A1_mat = MatrixA(pth, kb; phys=phys1, control, gridap)\n",
    "# b1_vec = assemble_vector(v->(∫(v)gridap.dΓ_s), gridap.FE_V)\n",
    "# u1_vec = A1_mat \\ b1_vec\n",
    "# u1h = FEFunction(gridap.FE_U, u1_vec)\n",
    "\n",
    "# A2_mat = MatrixA(pth, kb; phys=phys2, control, gridap)\n",
    "# o_vec = VectorO(1, 1; gridap)\n",
    "# v2_vec = A2_mat' \\ o_vec\n",
    "# v2h = FEFunction(gridap.FE_U, v2_vec)\n",
    "\n",
    "fig, ax, plt = plot(gridap.Ω, pth, colormap = :binary)\n",
    "Colorbar(fig[1,2], plt)\n",
    "ax.aspect = AxisAspect(L/(hd))\n",
    "ax.title = \"Design Shape\"\n",
    "limits!(ax, -L/2, L/2, 0, hd)\n",
    "#save(\"Results/shape.png\", fig)\n",
    "fig"
   ]
  },
  {
   "cell_type": "code",
   "execution_count": 8,
   "metadata": {},
   "outputs": [
    {
     "data": {
      "image/png": "[encoded data removed]",
      "text/plain": [
       "Figure()"
      ]
     },
     "execution_count": 8,
     "metadata": {},
     "output_type": "execute_result"
    }
   ],
   "source": [
    "maxv = maximum(abs.(u1_vec))\n",
    "fig, ax, plt = plot(gridap.Ω, real(u1h), colormap = :bwr, colorrange=(-maxv, maxv))\n",
    "Colorbar(fig[1,2], plt)\n",
    "ax.aspect = AxisAspect(L/(phys1.LHp[2]+phys1.LHn[2]))\n",
    "ax.title = \"Design Shape\"\n",
    "limits!(ax, -L/2, L/2, -phys1.LHn[2], phys1.LHp[2])\n",
    "fig"
   ]
  },
  {
   "cell_type": "code",
   "execution_count": 6,
   "metadata": {},
   "outputs": [
    {
     "data": {
      "text/plain": [
       "(-0.0009285676569561474, -0.0009285677665944956)"
      ]
     },
     "execution_count": 6,
     "metadata": {},
     "output_type": "execute_result"
    }
   ],
   "source": [
    "p0 = rand(gridap.np)\n",
    "δp = rand(gridap.np)*1e-8\n",
    "grad = zeros(gridap.np)\n",
    "\n",
    "kb = 0.0 * ω1\n",
    "g0 = g0_p(p0, grad; kb, phys1, phys2, control, gridap)\n",
    "g1 = g0_p(p0+δp, []; kb, phys1, phys2, control, gridap)\n",
    "g1-g0, grad'*δp"
   ]
  },
  {
   "cell_type": "code",
   "execution_count": 18,
   "metadata": {},
   "outputs": [
    {
     "data": {
      "text/plain": [
       "32986.19196454334"
      ]
     },
     "execution_count": 18,
     "metadata": {},
     "output_type": "execute_result"
    }
   ],
   "source": [
    "g0_p(zeros(gridap.np), []; kb=0, phys1, phys2, control, gridap)"
   ]
  },
  {
   "cell_type": "code",
   "execution_count": 19,
   "metadata": {},
   "outputs": [
    {
     "data": {
      "text/plain": [
       "64.87600800339538"
      ]
     },
     "execution_count": 19,
     "metadata": {},
     "output_type": "execute_result"
    }
   ],
   "source": [
    "2.14e6/32986"
   ]
  },
  {
   "cell_type": "code",
   "execution_count": null,
   "metadata": {},
   "outputs": [],
   "source": []
  }
 ],
 "metadata": {
  "kernelspec": {
   "display_name": "Julia 1.6.0",
   "language": "julia",
   "name": "julia-1.6"
  },
  "language_info": {
   "file_extension": ".jl",
   "mimetype": "application/julia",
   "name": "julia",
   "version": "1.6.2"
  }
 },
 "nbformat": 4,
 "nbformat_minor": 4
}
