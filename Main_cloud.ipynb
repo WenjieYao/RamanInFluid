{
 "cells": [
  {
   "cell_type": "code",
   "execution_count": 1,
   "metadata": {},
   "outputs": [
    {
     "data": {
      "text/plain": [
       "g0_p_optimize (generic function with 3 methods)"
      ]
     },
     "execution_count": 1,
     "metadata": {},
     "output_type": "execute_result"
    }
   ],
   "source": [
    "using Gridap, Gridap.Geometry, Gridap.Fields\n",
    "using Gmsh, GridapGmsh\n",
    "using GLMakie, DelimitedFiles, Interpolations\n",
    "using LinearAlgebra, SparseArrays, KrylovKit\n",
    "using ChainRulesCore, Zygote\n",
    "using PartitionedArrays\n",
    "using NLopt\n",
    "using GridapMakie\n",
    "\n",
    "import Gridap.CellData: Interpolable\n",
    "import ChainRulesCore: rrule\n",
    "import Gmsh: gmsh\n",
    "\n",
    "\n",
    "main_path = \"/Users/jayyao/Documents/Research/RamanInFluid/\"\n",
    "include(main_path*\"Materials/Materials.jl\")\n",
    "include(main_path*\"Module/Mesh_Periodic.jl\")\n",
    "include(main_path*\"Module/Helper.jl\")\n",
    "include(main_path*\"Module/GridapFE.jl\")\n",
    "include(main_path*\"Module/Control.jl\")\n",
    "include(main_path*\"Module/Model.jl\")\n",
    "include(main_path*\"Module/Objective.jl\")"
   ]
  },
  {
   "cell_type": "code",
   "execution_count": 2,
   "metadata": {},
   "outputs": [
    {
     "data": {
      "text/plain": [
       "Process(`\u001b[4mscp\u001b[24m \u001b[4mwyao@txe1-login.mit.edu:/home/gridsan/wyao/Research/RamanInFluid/cloud/task1/geometry.msh\u001b[24m \u001b[4m/Users/jayyao/Documents/Research/RamanInFluid/cloud/\u001b[24m`, ProcessExited(0))"
      ]
     },
     "execution_count": 2,
     "metadata": {},
     "output_type": "execute_result"
    }
   ],
   "source": [
    "material = \"Ag\"\n",
    "n_λ, k_λ = RefractiveIndex(material,main_path,true)\n",
    "λ1 = 532\n",
    "λ2 = 549\n",
    "nm1 = n_λ(λ1) + 1im * k_λ(λ1)\n",
    "nm2 = n_λ(λ2) + 1im * k_λ(λ2)\n",
    "nf = sqrt(1.77)\n",
    "μ = 1\n",
    "R = 1e-10\n",
    "\n",
    "hr = (λ1+λ2)/nf/4          # Height of Raman molecule\n",
    "# Geometry parameters of the mesh\n",
    "L = 300           # Length of the normal region\n",
    "hair = 500 + hr       # Height of the air region\n",
    "hs = 300 + hr         # Height of the source location in air\n",
    "ht = 200 + hr         # Height of the target location in air\n",
    "hd = 200          # Height of design domain\n",
    "hsub = 100        # Height of substrate domain below design domain\n",
    "dpml = 300        # Thickness of the PML\n",
    "hrd = (hd, hr)\n",
    "# Characteristic length (controls the resolution, smaller the finer)\n",
    "resol = 20        # Number of points per wavelength\n",
    "l1 = 20      # Air\n",
    "l2 = 1       # Design domain\n",
    "l3 = l1           # PML\n",
    "\n",
    "meshfile = \"cloud/geometry.msh\"\n",
    "geo_param = PeriodicGeometry(L, hair, hs, ht, hd, hsub, dpml, l1, l2, l3)\n",
    "# MeshGenerator(geo_param, meshfile)\n",
    "\n",
    "LHp=(Inf, hair + hd)  # Start of PML for x,y > 0\n",
    "LHn=(Inf, hsub)       # Start of PML for x,y < 0\n",
    "\n",
    "\n",
    "ω1 = 2 * π / λ1\n",
    "phys1 = PhysicalParameters(ω1, nf, nm1, nm1, μ, R, dpml, LHp, LHn, hd)\n",
    "ω2 = 2 * π / λ2\n",
    "phys2 = PhysicalParameters(ω2, nf, nm2, nm2, μ, R, dpml, LHp, LHn, hd)\n",
    "run(`scp wyao@txe1-login.mit.edu:/home/gridsan/wyao/Research/RamanInFluid/cloud/task1/geometry.msh /Users/jayyao/Documents/Research/RamanInFluid/cloud/`)"
   ]
  },
  {
   "cell_type": "code",
   "execution_count": 3,
   "metadata": {},
   "outputs": [
    {
     "name": "stdout",
     "output_type": "stream",
     "text": [
      "Info    : Reading 'cloud/geometry.msh'...\n",
      "Info    : 45 entities\n",
      "Info    : 80064 nodes\n",
      "Info    : 160114 elements\n",
      "Info    : [ 10%] Reading elements                                          \r",
      "Info    : [ 20%] Reading elements                                          \r",
      "Info    : [ 30%] Reading elements                                          \r",
      "Info    : [ 40%] Reading elements                                          \r",
      "Info    : [ 50%] Reading elements                                          \r",
      "Info    : [ 50%] Reading elements                                          \r",
      "Info    : [ 60%] Reading elements                                          \r",
      "Info    : [ 70%] Reading elements                                          \r",
      "Info    : [ 80%] Reading elements                                          \r",
      "Info    : [ 90%] Reading elements                                          \r",
      "Info    : [100%] Reading elements                                          \r",
      "                                          \r",
      "Info    : Done reading 'cloud/geometry.msh'\n"
     ]
    },
    {
     "data": {
      "text/plain": [
       "GridapParameters(UnconstrainedFESpace(), UnconstrainedFESpace(), UnconstrainedFESpace(), UnconstrainedFESpace(), UnconstrainedFESpace(), UnconstrainedFESpace(), 138772, BodyFittedTriangulation(), Measure(), Measure(), Measure(), Measure(), Measure(), Measure(), GenericCellField(), Int8[8, 8, 8, 8, 8, 8, 8, 8, 8, 8  …  10, 10, 10, 10, 10, 10, 10, 10, 10, 10], 7)"
      ]
     },
     "execution_count": 3,
     "metadata": {},
     "output_type": "execute_result"
    }
   ],
   "source": [
    "############  Optimization parameters #############\n",
    "flag_f = true       # Turn on filter\n",
    "flag_t = true       # Turn on threshold\n",
    "\n",
    "# Filter and threshold paramters\n",
    "r = (2, 2)  # Filter radius\n",
    "β = 32.0                  # β∈[1,∞], threshold sharpness\n",
    "η = 0.5                   # η∈[0,1], threshold center\n",
    "\n",
    "α = 1.0 / (2 * 1000.0)    # Equivalent loss α = 1/2Q\n",
    "\n",
    "# Number of subspace\n",
    "K = 20\n",
    "\n",
    "# Amplify g for NLopt\n",
    "Amp = 1\n",
    "\n",
    "# Sum over kx\n",
    "nkx = 30\n",
    "nparts = nkx / 2\n",
    "\n",
    "Bp = true          # Matrix B depend on parameters?\n",
    "pv = 1\n",
    "\n",
    "# Foundary constraint parameters\n",
    "c = 0#resol^4\n",
    "lw = r[1]\n",
    "ls = r[1]\n",
    "ηe = fηe(lw / r[1])\n",
    "ηd = fηd(lw / r[1])\n",
    "\n",
    "control = ControllingParameters(flag_f, flag_t, r, β, η, α, nparts, nkx, K, Amp, Bp, pv, c, ηe, ηd, hrd)\n",
    "\n",
    "gridap = GridapFE(meshfile, 1, 2, [\"DirichletEdges\", \"DirichletNodes\"], [\"DesignNodes\", \"DesignEdges\"], [\"Target\"], [\"Source\"], flag_f, true)\n",
    "\n"
   ]
  },
  {
   "cell_type": "code",
   "execution_count": 23,
   "metadata": {},
   "outputs": [
    {
     "data": {
      "text/plain": [
       "Process(`\u001b[4mscp\u001b[24m \u001b[4mwyao@txe1-login.mit.edu:/home/gridsan/wyao/Research/RamanInFluid/cloud/task2/p_opt_value.txt\u001b[24m \u001b[4m/Users/jayyao/Documents/Research/RamanInFluid/cloud/\u001b[24m`, ProcessExited(0))"
      ]
     },
     "execution_count": 23,
     "metadata": {},
     "output_type": "execute_result"
    }
   ],
   "source": [
    "#run(`scp wyao@txe1-login.mit.edu:/home/gridsan/wyao/Research/RamanInFluid/cloud/task1/geometry.msh /Users/jayyao/Documents/Research/RamanInFluid/`)\n",
    "run(`scp wyao@txe1-login.mit.edu:/home/gridsan/wyao/Research/RamanInFluid/cloud/task2/p_opt_value.txt /Users/jayyao/Documents/Research/RamanInFluid/cloud/`)"
   ]
  },
  {
   "cell_type": "code",
   "execution_count": null,
   "metadata": {},
   "outputs": [],
   "source": [
    "usat = (10)^2/4\n",
    "damp = 100/usat\n",
    "# Output and view\n",
    "ImportFromFile = true\n",
    "N = num_free_dofs(gridap.FE_U)\n",
    "if ImportFromFile\n",
    "    #p_max = readdlm(\"cloud/task5/p_opt_value.txt\", Float64)\n",
    "    p_max = readdlm(\"cloud/p_opt_value.txt\", Float64)\n",
    "    p0 = p_max[:]\n",
    "else\n",
    "    p0 = zeros(gridap.np)\n",
    "end\n",
    "\n",
    "kb = 0\n",
    "pf_vec = pf_p0(p0; control, gridap)\n",
    "pfh = FEFunction(gridap.FE_Pf, pf_vec)\n",
    "pth = (pf -> Threshold(pf; control)) ∘ pfh\n",
    "A1_mat = MatrixA(pth, kb; phys=phys1, control, gridap)\n",
    "b1_vec = assemble_vector(v->(∫(v)gridap.dΓ_s), gridap.FE_V)\n",
    "u1_vec = A1_mat \\ b1_vec\n",
    "u1h = FEFunction(gridap.FE_U, u1_vec)\n",
    "\n",
    "A2_mat = MatrixA(pth, kb; phys=phys2, control, gridap)\n",
    "o_vec = VectorO(1, 1; gridap)\n",
    "v2_vec = A2_mat' \\ o_vec\n",
    "v2h = FEFunction(gridap.FE_U, v2_vec)\n",
    "\n",
    "@show g0_p(p0; kb, phys1, phys2, control, gridap, usat, damp)/L/147\n",
    "fig, ax, plt = plot(gridap.Ω, pth, colormap = :binary)\n",
    "Colorbar(fig[1,2], plt)\n",
    "ax.aspect = AxisAspect(L/(hd))\n",
    "ax.title = \"Design Shape\"\n",
    "limits!(ax, -L/2, L/2, 0, hd)\n",
    "save(\"Results/shape.png\", fig)\n",
    "fig"
   ]
  },
  {
   "cell_type": "code",
   "execution_count": null,
   "metadata": {},
   "outputs": [],
   "source": [
    "maxe = 20#usat\n",
    "e1=abs2(phys1.nf^2)\n",
    "e2=abs2(phys1.nm^2)\n",
    "#fig, ax, plt = plot(gridap.Ω, real(u1h), colormap = :bwr, colorrange=(-maxv, maxv))\n",
    "#fig, ax, plt = plot(gridap.Ω, abs2(u1h), colormap = :hot, colorrange=(0, maxv^2))\n",
    "fig, ax, plt = plot(gridap.Ω, 2*(sqrt∘(abs((conj(∇(u1h)) ⋅ ∇(u1h))/(e1 + (e2 - e1) * pth)))), colormap = :hot, colorrange=(0, maxe))\n",
    "Colorbar(fig[1,2], plt)\n",
    "#ax.title = \"|H|\"\n",
    "ax.title = \"|E|\"\n",
    "#ax.aspect = AxisAspect(L/(phys1.LHp[2]+phys1.LHn[2]))\n",
    "#limits!(ax, -L/2, L/2, -phys1.LHn[2], phys1.LHp[2])\n",
    "ax.aspect = AxisAspect(L/(hd+hr*1))\n",
    "limits!(ax, -L/2, L/2, 0, hd+hr*1)\n",
    "save(\"Results/Field.png\", fig)\n",
    "fig"
   ]
  },
  {
   "cell_type": "code",
   "execution_count": 67,
   "metadata": {},
   "outputs": [
    {
     "data": {
      "text/plain": [
       "Process(`\u001b[4mscp\u001b[24m \u001b[4mwyao@txe1-login.mit.edu:/home/gridsan/wyao/Research/RamanInFluid/cloud/task1/g_opt_value.txt\u001b[24m \u001b[4m/Users/jayyao/Documents/Research/RamanInFluid/\u001b[24m`, ProcessExited(0))"
      ]
     },
     "execution_count": 67,
     "metadata": {},
     "output_type": "execute_result"
    }
   ],
   "source": [
    "run(`scp wyao@txe1-login.mit.edu:/home/gridsan/wyao/Research/RamanInFluid/cloud/task1/g_opt_value.txt /Users/jayyao/Documents/Research/RamanInFluid/`)"
   ]
  },
  {
   "cell_type": "code",
   "execution_count": null,
   "metadata": {},
   "outputs": [],
   "source": []
  }
 ],
 "metadata": {
  "@webio": {
   "lastCommId": null,
   "lastKernelId": null
  },
  "kernelspec": {
   "display_name": "Julia 1.6.0",
   "language": "julia",
   "name": "julia-1.6"
  },
  "language_info": {
   "file_extension": ".jl",
   "mimetype": "application/julia",
   "name": "julia",
   "version": "1.6.2"
  }
 },
 "nbformat": 4,
 "nbformat_minor": 2
}
