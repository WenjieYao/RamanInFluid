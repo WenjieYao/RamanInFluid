{
 "cells": [
  {
   "cell_type": "code",
   "execution_count": 1,
   "metadata": {},
   "outputs": [
    {
     "data": {
      "text/plain": [
       "gs_p_optimize (generic function with 3 methods)"
      ]
     },
     "execution_count": 1,
     "metadata": {},
     "output_type": "execute_result"
    }
   ],
   "source": [
    "using Gridap, Gridap.Geometry, Gridap.Fields\n",
    "using Gmsh, GridapGmsh\n",
    "using GLMakie, DelimitedFiles, Interpolations\n",
    "using LinearAlgebra, SparseArrays, KrylovKit\n",
    "using ChainRulesCore, Zygote\n",
    "using PartitionedArrays\n",
    "using NLopt\n",
    "using GridapMakie\n",
    "\n",
    "import Gridap.CellData: Interpolable\n",
    "import ChainRulesCore: rrule\n",
    "import Gmsh: gmsh\n",
    "\n",
    "\n",
    "main_path = \"/Users/jayyao/Documents/Research/RamanInFluid/\"\n",
    "include(main_path*\"Materials/Materials.jl\")\n",
    "include(main_path*\"Module/Mesh_RecCir.jl\")\n",
    "include(main_path*\"Module/Helper.jl\")\n",
    "include(main_path*\"Module/GridapFE.jl\")\n",
    "include(main_path*\"Module/Control.jl\")\n",
    "include(main_path*\"Module/Model.jl\")\n",
    "include(main_path*\"Module/Objective.jl\")\n",
    "include(main_path*\"Module/Objective_single.jl\")"
   ]
  },
  {
   "cell_type": "code",
   "execution_count": 2,
   "metadata": {},
   "outputs": [
    {
     "name": "stdout",
     "output_type": "stream",
     "text": [
      "Info    : Clearing all models and views...\n",
      "Info    : Done clearing all models and views\n",
      "Info    : Reconstructing periodicity for curve connection 2 - 6\n",
      "Info    : Reconstructing periodicity for curve connection 3 - 5\n",
      "Info    : Meshing 1D...\n",
      "Info    : Meshing curve 1 (Line)\n",
      "Info    : Meshing curve 4 (Line)\n",
      "Info    : Meshing curve 5 (Line)\n",
      "Info    : Meshing curve 6 (Line)\n",
      "Info    : Meshing curve 7 (Line)\n",
      "Info    : Meshing curve 8 (Circle)\n",
      "Info    : Meshing curve 9 (Circle)\n",
      "Info    : Meshing curve 10 (Circle)\n",
      "Info    : Meshing curve 11 (Circle)\n",
      "Info    : Meshing curve 12 (Circle)\n",
      "Info    : Meshing curve 13 (Circle)\n",
      "Info    : Meshing curve 2 (Line) as a copy of 6\n",
      "Info    : Meshing curve 3 (Line) as a copy of 5\n",
      "Info    : Done meshing 1D (0.001486 s)\n",
      "Info    : Meshing 2D...\n",
      "Info    : Meshing surface 1 (Plane, Frontal)\n",
      "Info    : Meshing surface 2 (Plane, Frontal)\n",
      "Info    : Meshing surface 3 (Plane, Frontal)\n",
      "Info    : Meshing surface 4 (Plane, Frontal)\n",
      "Info    : Meshing surface 5 (Plane, Frontal)\n",
      "Info    : Done meshing 2D (0.960741 s)\n",
      "Info    : 26479 vertices 53477 elements\n",
      "Info    : Writing 'geometry.msh'...\n",
      "Info    : Done writing 'geometry.msh'\n"
     ]
    },
    {
     "name": "stderr",
     "output_type": "stream",
     "text": [
      "Warning : Gmsh must be compiled with ANN support for finding closest vertices\n",
      "Warning : Gmsh must be compiled with ANN support for finding closest vertices\n",
      "Warning : Gmsh must be compiled with ANN support for finding closest vertices\n",
      "Warning : Gmsh must be compiled with ANN support for finding closest vertices\n",
      "Warning : Gmsh must be compiled with ANN support for finding closest vertices\n",
      "Warning : Gmsh must be compiled with ANN support for finding closest vertices\n"
     ]
    }
   ],
   "source": [
    "L = 600\n",
    "h1 = 600\n",
    "h2 = 200\n",
    "rd = 100\n",
    "rs = 10\n",
    "rt = 150\n",
    "dpml = 300\n",
    "\n",
    "res = 50\n",
    "l1 = L/res\n",
    "l2 = l1/3\n",
    "\n",
    "hrd = [0, h1/2]\n",
    "meshfile = \"geometry.msh\"\n",
    "geo_param = RecCirGeometry(L, h1, h2, rt, rd, rs, dpml, l1, l2)\n",
    "MeshGenerator(geo_param, meshfile)"
   ]
  },
  {
   "cell_type": "code",
   "execution_count": 3,
   "metadata": {},
   "outputs": [
    {
     "name": "stdout",
     "output_type": "stream",
     "text": [
      "Info    : Reading 'geometry.msh'...\n",
      "Info    : 31 entities\n",
      "Info    : 26478 nodes\n",
      "Info    : 53238 elements\n",
      "Info    : Done reading 'geometry.msh'\n"
     ]
    },
    {
     "data": {
      "text/plain": [
       "GridapParameters(UnconstrainedFESpace(), UnconstrainedFESpace(), UnconstrainedFESpace(), UnconstrainedFESpace(), UnconstrainedFESpace(), UnconstrainedFESpace(), 4688, BodyFittedTriangulation(), Measure(), Measure(), Measure(), Measure(), Measure(), Measure(), GenericCellField(), Int8[8, 8, 8, 8, 8, 8, 8, 8, 8, 8  …  9, 9, 9, 9, 9, 9, 9, 9, 9, 9], 7)"
      ]
     },
     "execution_count": 3,
     "metadata": {},
     "output_type": "execute_result"
    }
   ],
   "source": [
    "############  Optimization parameters #############\n",
    "flag_f = true       # Turn on filter\n",
    "flag_t = true       # Turn on threshold\n",
    "\n",
    "# Filter and threshold paramters\n",
    "r = [0.02 * L, 0.02 * L]  # Filter radius\n",
    "β = 80.0                  # β∈[1,∞], threshold sharpness\n",
    "η = 0.5                   # η∈[0,1], threshold center\n",
    "\n",
    "α = 0.0 / (2 * 1000.0)    # Equivalent loss α = 1/2Q\n",
    "\n",
    "# Number of subspace\n",
    "K = 20\n",
    "\n",
    "# Amplify g for NLopt\n",
    "Amp = 1\n",
    "\n",
    "# Sum over kx\n",
    "nkx = 30\n",
    "nparts = nkx / 2\n",
    "\n",
    "Bp = false          # Matrix B depend on parameters?\n",
    "pv = 1\n",
    "\n",
    "# Foundary constraint parameters\n",
    "c = 0#resol^4\n",
    "lw = r[1]\n",
    "ls = r[1]\n",
    "ηe = fηe(lw / r[1])\n",
    "ηd = fηd(lw / r[1])\n",
    "\n",
    "\n",
    "control = ControllingParameters(flag_f, flag_t, r, β, η, α, nparts, nkx, K, Amp, Bp, pv, c, ηe, ηd, hrd)\n",
    "\n",
    "gridap = GridapFE(meshfile, 1, 2, [\"DirichletEdges\", \"DirichletNodes\"], [\"DesignNodes\", \"DesignEdges\"], [\"Target\"], [\"Source\"], flag_f)\n",
    "\n"
   ]
  },
  {
   "cell_type": "code",
   "execution_count": null,
   "metadata": {},
   "outputs": [],
   "source": [
    "include(main_path*\"Materials/Materials.jl\")"
   ]
  },
  {
   "cell_type": "code",
   "execution_count": 4,
   "metadata": {},
   "outputs": [
    {
     "data": {
      "text/plain": [
       "0.054007220216606505 + 3.42898916967509im"
      ]
     },
     "execution_count": 4,
     "metadata": {},
     "output_type": "execute_result"
    }
   ],
   "source": [
    "\n",
    "material = \"Ag\"\n",
    "n_λ, k_λ = RefractiveIndex(material,main_path,true)\n",
    "λ1 = 532\n",
    "λ2 = 548\n",
    "nm1 = n_λ(λ1) + 1im * k_λ(λ1)\n",
    "nm2 = n_λ(λ2) + 1im * k_λ(λ2)\n",
    "nf = 1\n",
    "μ = 1\n",
    "R = 1e-10\n",
    "LHp=[L/2, h1+h2]   # Start of PML for x,y > 0\n",
    "LHn=[L/2, 0.1]       # Start of PML for x,y < 0\n",
    "\n",
    "\n",
    "ω1 = 2 * π / λ1\n",
    "phys1 = PhysicalParameters(ω1, nf, nm1, nf, μ, R, dpml, LHp, LHn, 0)\n",
    "ω2 = 2 * π / λ2\n",
    "phys2 = PhysicalParameters(ω2, nf, nm2, nf, μ, R, dpml, LHp, LHn, 0)\n",
    "\n",
    "nm1\n",
    "# N = num_free_dofs(gridap.FE_U)\n",
    "# kb = 0. * ω1\n",
    "# p0 = ones(gridap.np)\n",
    "# pf_vec = pf_p0(p0; control, gridap)\n",
    "# pfh = FEFunction(gridap.FE_Pf, pf_vec)\n",
    "# pth = (pf -> Threshold(pf; control)) ∘ pfh\n",
    "\n",
    "# A1_mat = MatrixA(pth, kb; phys=phys1, control, gridap)\n",
    "\n",
    "# binc(v) = ∫(v)gridap.dΓ_s\n",
    "# b_inc = assemble_vector(binc, gridap.FE_V)\n",
    "\n",
    "# u1_vec = A1_mat\\b_inc\n",
    "# u1h = FEFunction(gridap.FE_U, u1_vec)\n",
    "\n",
    "# A2_mat = MatrixA(pth, kb; phys=phys2, control, gridap)\n",
    "# O_mat = MatrixOc(ω2, nf^2; gridap)\n",
    "\n",
    "# braman(v) = ∫((x->GaussianD(x, hrd, [2,2]))*(∇(v) ⋅ ∇(u1h)))gridap.dΩ\n",
    "# b_raman = assemble_vector(braman, gridap.FE_V)\n",
    "# v2_vec = A2_mat' \\ b_raman\n",
    "# v2h = FEFunction(gridap.FE_U, v2_vec)\n",
    "\n",
    "# @show gvalue = v2_vec'*O_mat*v2_vec\n",
    "\n",
    "# #fig, ax, plt = plot(gridap.Ω, pth, colormap = :binary)\n",
    "# maxv = maximum(abs.(u1_vec))/1\n",
    "# fig, ax, plt = plot(gridap.Ω, real(u1h), colormap = :bwr, colorrange=(-maxv, maxv))\n",
    "# Colorbar(fig[1,2], plt)\n",
    "# ax.title = \"Design Shape\"\n",
    "# ax.aspect = AxisAspect((L+2*dpml)/(h1+h2+2*dpml))\n",
    "# #ax.aspect = AxisAspect(L/(h1))\n",
    "# #limits!(ax, -L/2, L/2, 0, h1)\n",
    "# fig\n",
    "#0.12931555555555557 + 3.1932im"
   ]
  },
  {
   "cell_type": "code",
   "execution_count": 85,
   "metadata": {},
   "outputs": [
    {
     "data": {
      "image/png": "[encoded data removed]",
      "text/plain": [
       "Figure()"
      ]
     },
     "execution_count": 85,
     "metadata": {},
     "output_type": "execute_result"
    }
   ],
   "source": [
    "using FileIO\n",
    "import Images: Gray\n",
    "# specify the path to your local image file\n",
    "img_path = \"Initial/Rasmus_Raman.png\"\n",
    "img = load(img_path)\n",
    "data = 1.0 .-Float64.(Gray.(img))\n",
    "function image_to_function(x, data, Lx, Ly)\n",
    "    Nx, Ny = size(data)\n",
    "    xi = Int(round((x[1]/Lx + 0.5) * Nx))\n",
    "    yi = Ny-Int(round(((x[2]-h1/2)/Ly + 0.5) * Ny))\n",
    "    if xi > 0 && xi <= Nx && yi > 0 && yi <= Ny\n",
    "        return data[xi,yi]\n",
    "    else\n",
    "        return 0.0\n",
    "    end\n",
    "end\n",
    "\n",
    "binit(v) = ∫(v * x->image_to_function(x, data, 280, 280))gridap.dΩ\n",
    "pc_vec = assemble_vector(binit, gridap.FE_P)\n",
    "p_init = p_extract(pc_vec; gridap)\n",
    "p_init[p_init .< 0.5] .= 0\n",
    "p_init[p_init .> 0.5] .= 1\n",
    "\n",
    "pf_vec = pf_p0(p_init; control, gridap)\n",
    "pfh = FEFunction(gridap.FE_Pf, pf_vec)\n",
    "pth = (pf -> Threshold(pf; control)) ∘ pfh\n",
    "\n",
    "fig, ax, plt = plot(gridap.Ω, pth, colormap = :binary)\n",
    "Colorbar(fig[1,2], plt)\n",
    "ax.aspect = AxisAspect(L/(h1+h2))\n",
    "ax.title = \"Design Shape\"\n",
    "limits!(ax, -L/2, L/2, 0, h1+h2)\n",
    "# save(\"Results/shape.png\", fig)\n",
    "fig"
   ]
  },
  {
   "cell_type": "code",
   "execution_count": null,
   "metadata": {},
   "outputs": [],
   "source": [
    "p_init = rand(gridap.np) * 0.9 + rand(gridap.np) * 1e-2\n",
    "β_list = [5.0, 10.0, 20.0, 30.0, 40.0, 60.0, 80.0]\n",
    "# β_list = [80.0, 80.0, 80.0, 80.0, 80.0]\n",
    "\n",
    "g_opt = 0\n",
    "for bi = 1 : 7\n",
    "    β = β_list[bi]\n",
    "    control = ControllingParameters(flag_f, flag_t, r, β, η, α, nparts, nkx, K, Amp, Bp, pv, c, ηe, ηd, hrd)\n",
    "\n",
    "    if bi == 1\n",
    "        g_opt, p_opt = gs_p_optimize(p_init, 1e-12, 200; phys1, phys2, control, gridap)\n",
    "    \n",
    "    else\n",
    "        g_opt, p_opt = gs_p_optimize([], 1e-12, 200; phys1, phys2, control, gridap)\n",
    "    end\n",
    "    if isfile(\"p_opt.value.txt\")\n",
    "        run(`rm p_opt_value.txt`)\n",
    "    end\n",
    "    open(\"p_opt_value.txt\", \"w\") do iop\n",
    "        for i = 1 : length(p_opt)\n",
    "            p_temp = p_opt[i]\n",
    "            write(iop, \"$p_temp \\n\")\n",
    "        end\n",
    "    end\n",
    "    open(\"g_opt_value.txt\", \"a\") do io\n",
    "        write(io, \"$g_opt \\n\")\n",
    "    end\n",
    "end\n",
    "@show g_opt"
   ]
  },
  {
   "cell_type": "code",
   "execution_count": null,
   "metadata": {},
   "outputs": [],
   "source": [
    "# Output and view\n",
    "ImportFromFile = true\n",
    "N = num_free_dofs(gridap.FE_U)\n",
    "if ImportFromFile\n",
    "    #p_max = readdlm(\"cloud/task5/p_opt_value.txt\", Float64)\n",
    "    p_max = readdlm(\"p_opt_value.txt\", Float64)\n",
    "    p0 = p_max[:]\n",
    "else\n",
    "    p0 = zeros(gridap.np)\n",
    "end\n",
    "\n",
    "kb = 0\n",
    "pf_vec = pf_p0(p0; control, gridap)\n",
    "pfh = FEFunction(gridap.FE_Pf, pf_vec)\n",
    "pth = (pf -> Threshold(pf; control)) ∘ pfh\n",
    "A1_mat = MatrixA(pth, kb; phys=phys1, control, gridap)\n",
    "b1_vec = assemble_vector(v->(∫(v)gridap.dΓ_s), gridap.FE_V)\n",
    "u1_vec = A1_mat \\ b1_vec\n",
    "u1h = FEFunction(gridap.FE_U, u1_vec)\n",
    "\n",
    "A2_mat = MatrixA(pth, kb; phys=phys2, control, gridap)\n",
    "o_vec = VectorO(1, 1; gridap)\n",
    "v2_vec = A2_mat' \\ o_vec\n",
    "v2h = FEFunction(gridap.FE_U, v2_vec)\n",
    "\n",
    "fig, ax, plt = plot(gridap.Ω, pth, colormap = :binary)\n",
    "Colorbar(fig[1,2], plt)\n",
    "ax.aspect = AxisAspect(L/(h1+h2))\n",
    "ax.title = \"Design Shape\"\n",
    "limits!(ax, -L/2, L/2, 0, h1+h2)\n",
    "save(\"Results/shape.png\", fig)\n",
    "fig"
   ]
  },
  {
   "cell_type": "code",
   "execution_count": null,
   "metadata": {},
   "outputs": [],
   "source": [
    "maxv = maximum(abs.(u1_vec))/1\n",
    "fig, ax, plt = plot(gridap.Ω, real(u1h), colormap = :bwr, colorrange=(-maxv, maxv))\n",
    "Colorbar(fig[1,2], plt)\n",
    "ax.title = \"H field\"\n",
    "ax.aspect = AxisAspect((L)/(h1+h2))\n",
    "#ax.aspect = AxisAspect(L/(h1))\n",
    "limits!(ax, -L/2, L/2, 0, h1+h2)\n",
    "fig"
   ]
  },
  {
   "cell_type": "code",
   "execution_count": null,
   "metadata": {},
   "outputs": [],
   "source": [
    "p0 = rand(gridap.np)\n",
    "δp = rand(gridap.np)*1e-8\n",
    "grad = zeros(gridap.np)\n",
    "\n",
    "kb = 0.0 * ω1\n",
    "g0 = gs_p(p0, grad; kb, phys1, phys2, control, gridap)\n",
    "g1 = gs_p(p0+δp, []; kb, phys1, phys2, control, gridap)\n",
    "g1-g0, grad'*δp"
   ]
  },
  {
   "cell_type": "code",
   "execution_count": 82,
   "metadata": {},
   "outputs": [
    {
     "data": {
      "image/png": "[encoded data removed]",
      "text/plain": [
       "2048×2048 Array{RGB{N0f8},2} with eltype ColorTypes.RGB{FixedPointNumbers.N0f8}:\n",
       " RGB{N0f8}(0.996,0.996,0.996)  …  RGB{N0f8}(0.996,0.996,0.996)\n",
       " RGB{N0f8}(0.996,0.996,0.996)     RGB{N0f8}(0.996,0.996,0.996)\n",
       " RGB{N0f8}(0.996,0.996,0.996)     RGB{N0f8}(0.996,0.996,0.996)\n",
       " RGB{N0f8}(0.996,0.996,0.996)     RGB{N0f8}(0.996,0.996,0.996)\n",
       " RGB{N0f8}(0.996,0.996,0.996)     RGB{N0f8}(0.996,0.996,0.996)\n",
       " RGB{N0f8}(0.996,0.996,0.996)  …  RGB{N0f8}(0.996,0.996,0.996)\n",
       " RGB{N0f8}(0.996,0.996,0.996)     RGB{N0f8}(0.996,0.996,0.996)\n",
       " RGB{N0f8}(0.996,0.996,0.996)     RGB{N0f8}(0.996,0.996,0.996)\n",
       " RGB{N0f8}(0.996,0.996,0.996)     RGB{N0f8}(0.996,0.996,0.996)\n",
       " RGB{N0f8}(0.996,0.996,0.996)     RGB{N0f8}(0.996,0.996,0.996)\n",
       " RGB{N0f8}(0.996,0.996,0.996)  …  RGB{N0f8}(0.996,0.996,0.996)\n",
       " RGB{N0f8}(0.996,0.996,0.996)     RGB{N0f8}(0.996,0.996,0.996)\n",
       " RGB{N0f8}(0.996,0.996,0.996)     RGB{N0f8}(0.996,0.996,0.996)\n",
       " ⋮                             ⋱  \n",
       " RGB{N0f8}(0.996,0.996,0.996)     RGB{N0f8}(0.996,0.996,0.996)\n",
       " RGB{N0f8}(0.996,0.996,0.996)     RGB{N0f8}(0.996,0.996,0.996)\n",
       " RGB{N0f8}(0.996,0.996,0.996)     RGB{N0f8}(0.996,0.996,0.996)\n",
       " RGB{N0f8}(0.996,0.996,0.996)     RGB{N0f8}(0.996,0.996,0.996)\n",
       " RGB{N0f8}(0.996,0.996,0.996)  …  RGB{N0f8}(0.996,0.996,0.996)\n",
       " RGB{N0f8}(0.996,0.996,0.996)     RGB{N0f8}(0.996,0.996,0.996)\n",
       " RGB{N0f8}(0.996,0.996,0.996)     RGB{N0f8}(0.996,0.996,0.996)\n",
       " RGB{N0f8}(0.996,0.996,0.996)     RGB{N0f8}(0.996,0.996,0.996)\n",
       " RGB{N0f8}(0.996,0.996,0.996)     RGB{N0f8}(0.996,0.996,0.996)\n",
       " RGB{N0f8}(0.996,0.996,0.996)  …  RGB{N0f8}(0.996,0.996,0.996)\n",
       " RGB{N0f8}(0.996,0.996,0.996)     RGB{N0f8}(0.996,0.996,0.996)\n",
       " RGB{N0f8}(0.996,0.996,0.996)     RGB{N0f8}(0.996,0.996,0.996)"
      ]
     },
     "execution_count": 82,
     "metadata": {},
     "output_type": "execute_result"
    }
   ],
   "source": [
    "img"
   ]
  },
  {
   "cell_type": "code",
   "execution_count": null,
   "metadata": {},
   "outputs": [],
   "source": []
  }
 ],
 "metadata": {
  "kernelspec": {
   "display_name": "Julia 1.6.0",
   "language": "julia",
   "name": "julia-1.6"
  },
  "language_info": {
   "file_extension": ".jl",
   "mimetype": "application/julia",
   "name": "julia",
   "version": "1.6.2"
  }
 },
 "nbformat": 4,
 "nbformat_minor": 4
}
